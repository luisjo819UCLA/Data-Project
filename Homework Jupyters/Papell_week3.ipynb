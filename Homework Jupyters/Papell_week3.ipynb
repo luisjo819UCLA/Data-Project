{
 "cells": [
  {
   "cell_type": "markdown",
   "metadata": {},
   "source": [
    "\n",
    "For week 3, we will focus on the replication of the results in Molodtsove and Pappell(2009).\n",
    "\n",
    "### Agenda\n",
    "\n",
    "1. Quick review of UIP\n",
    "2. Effects of news announcement on UIP\n",
    "3. Taylor Rule\n",
    "4. Overview of Molodtsove and Papell (2009)\n",
    "5. Two statistical tests for comparing forecasts: Diebold-Mariano-West and Clark-West\n",
    "6. Obtaining the data to replicate Molodtsove and Papell (2009)\n",
    "7. Taylor Rule Model for short-term forecasts of exchange rates\n",
    "8. DMW and CW Tests for comparison between the Taylor Rule model and the random walk model"
   ]
  },
  {
   "cell_type": "markdown",
   "metadata": {},
   "source": [
    "### 1. Quick review of UIP\n",
    "\n"
   ]
  },
  {
   "cell_type": "markdown",
   "metadata": {},
   "source": [
    "As it is foundational in this course, let's review again UIP no-abritrage condition again to solidify its assertion."
   ]
  },
  {
   "cell_type": "markdown",
   "metadata": {},
   "source": [
    "Suppose you are a risk-neutral domestic (let's say US) investor and you have $1 to invest. \n",
    "\n",
    "You are considering two options:\n",
    "\n",
    "1) Investing in **domestic bonds** and receiving a return of $(1+i_t)$ next period, where $i_t$ is the itnerest rate on risk-free US bonds.\n",
    "\n",
    "2) Investing in foreign bonds and receiving a return of $(1+i^*_t)$ next period, where $i_t^*$ is the interest rate on risk-free foreign bonds. \n",
    "    - Note we have to convert our USD to foreign currency before, at the time $t$ spot exchange rate $S_t,$ and after this trade at our expected exchange rate of $E_t[S_{t+1}]$."
   ]
  },
  {
   "cell_type": "markdown",
   "metadata": {},
   "source": [
    "UIP asserts that investors would arbitrage this trade until there was no riskless return and we have the UIP equation:\n",
    "\n",
    "$$1+i_t = (1+i^*_t) \\frac{E_t[S_{t+1}]}{S_t}$$"
   ]
  },
  {
   "cell_type": "markdown",
   "metadata": {},
   "source": [
    "The no-arbitrage logic proceeds as follows.\n",
    "\n",
    "First, suppose $1 + i_t > (1 + i^*_t) \\frac{\\mathbb{E}_t[S_{t+1}]}{S_t}$, that is, investment in US dollars gives higher return than foreign currencies. \n",
    "- $\\Rightarrow$ demand for US deposits goes up \n",
    "- $\\Rightarrow$ US dollars appreciate\n",
    "- $\\Rightarrow$ a $\\textit{decrease}$ in $S_t$ (now you need fewer US dollars to exchange for one British pound as dollars are more valuable) \n",
    "- $\\Rightarrow$ The RHS $(1 + i^*_t) \\frac{\\mathbb{E}_t[S_{t+1}]}{S_t}$ becomes larger due to $S_t$ decreasing\n",
    "- $\\Rightarrow$ in equilibrium (market clearing), the RHS = LHS and the UIP holds. \n",
    "\n",
    "The logic is similar if $1 + i_t < (1 + i^*_t) \\frac{\\mathbb{E}_t[S_{t+1}]}{S_t}.$"
   ]
  },
  {
   "cell_type": "markdown",
   "metadata": {},
   "source": [
    "### 2. Effects of news announcement on UIP\n",
    "\n"
   ]
  },
  {
   "cell_type": "markdown",
   "metadata": {},
   "source": [
    "Let's review briefly an example of the effect of news on exchange rates in a UIP world."
   ]
  },
  {
   "cell_type": "markdown",
   "metadata": {},
   "source": [
    "Assume:\n",
    "- UIP holds\n",
    "- At $t=0,$ $i_t = i_t^*$\n",
    "- At $t=1,$ $i_t \\uparrow$ (e.g. Fed raises rates)\n",
    "- At $t=2,$ $i_t = i_t^*$\n",
    "\n",
    "How does the exchange rate respond to this interest rate shock?\n",
    "\n",
    "Next, we solve the exchange rate path via backward induction:\n",
    "- At $t\\geq 2,$ $i_t = i_t^* \\implies S_t = E_t[S_{t+1}]$\n",
    "- At $t=1,$ $i_t > i_t^* \\implies E_1 [S_2] > S_1$\n",
    "- For the relationship between $S_0$ and $S_1,$ we have that the USD should appreciate on this interest rate shock given increased demand for USD deposits $\\implies S_1 < S_0.$\n",
    "\n",
    "Thus: $S_3 = S_2 > S_1 < S_0.$\n"
   ]
  },
  {
   "cell_type": "markdown",
   "metadata": {},
   "source": [
    "### 3. Taylor Rule\n",
    "\n",
    "We briefly mentioned the Taylor Rule in the Thursday lecture, so I wanted to give just a brief summary here to ensure you have at least a clear high-level understanding of this important economic concept.\n",
    "\n",
    "As a brief historical aside, here is a few sentence history of US monetary policy, which has generally led monetary policy around the world in the last 80 years (i.e. since Bretton Woods).\n",
    "\n",
    "First, the congressional mandate for the Federal Reserve is to maximize employment while maintaining a stable price level. In other words, ensure people are not unemployed and keep inflation from rising too high or too low. In general, folks view a trade-off between the two, known as the Phillips Curve.\n",
    "\n",
    "Generally, currency issued by governments was exchangeable for gold at some rate for some hundreds of years leading up to the 20th century. Folks generally had a view that the supply of money had a strong relationship to the price level, and thus wanted to constrain governments creating additional money and depreciating the value of the currency held by non-government entities. In the early 1970s, the United States went off the gold standard to allow the USD to freely float against other currencies. This was the moment the US entered a period where the USD was a true fiat currency, that is, valuable by fiat==the US government says it is (or rather because we all believe everyone else believes it is valuable).\n",
    "\n",
    "As this constraint (fixed exchange rate with gold) was removed, a leading group of economists, termed Monetarists, advocated for a rule-based monetary policy to contrain the Fed's actions, i.e. not allow it to just print money. This group was led by Milton Friedman in the 1970s-1980s. \n",
    "\n",
    "John Taylor, an economist at Stanford, advocated for a particular version of Friedman's theory, which has been termed the Taylor rule. His 1993 publication outlined his theory.\n",
    "\n",
    "In general, the opposite view of this is to have discretionary policy, wherein the policymakers at the Federal Reserve would use their best judgment at any given time to decide how to set monetary policy. A goal of 2% inflation with minimal unemployment achieved through discretionary policy has been the de facto policy approach for the past several decades. Given fears in 2020 of a Japan-style deflationary trap, the Fed announcement a new goal of ``average inflation targeting\" where inflation may run above 2% for some time but the Fed will try to on-average hit 2%.\n",
    "\n",
    "Although the Federal Reserve has many policy tools--ways it can influence the economy--available to it, the main tool is setting a target Federal Funds rate, which is the interest rate at which commerical banks lend to each other overnight. The Fed does not directly control this but controls the amount of bank reserves, a type of currency, in the system, which strongly influences the Federal Funds rate.\n",
    "\n",
    "The Taylor Rule targets the federal funds rate based on the current inflation rate, $\\pi_t,$ and the gap between actual and potential-output $y_t-\\bar{y}.$\n",
    "\n",
    "Thus, the rule is\n",
    "\n",
    "$$i_{ff} = \\pi_t + 2 + 0.5(\\pi_t-2) + 0.5 (y_t - \\bar{y})$$\n",
    "\n",
    "$$i_{ff} = \\pi_t + 0.5(\\pi_t-2) + 0.5 (y_t - \\bar{y})$$"
   ]
  },
  {
   "cell_type": "markdown",
   "metadata": {},
   "source": [
    "### 4. Overview of Molodtsove and Papell (2009)"
   ]
  },
  {
   "cell_type": "markdown",
   "metadata": {},
   "source": [
    "In the coming TA sections, we will be replicating a paper by Molodtsove and Papell published in 2009 in the Journal of International Economics on ``Out-of-sample exchange rate predictability with Taylor rule fundamentals\".\n",
    "\n",
    "In general, economists believe exchange rates follow a ``close-to-random-walk behavior and that it is very difficult to forecast exchange rates using the available information on economic conditions. See Meese and Rogoff (1983) and Fama (1984).\n",
    "\n",
    "Molodtsove and Papell (2009) assert there is some preditability for certain currencies if you use their specfication of a Taylor rule model.\n",
    "\n",
    "Specifically, they use 1983-1998 data to show out-of-sample exchange-rate forecasts based on their specified Taylor-rule model outperforms random-walk models for certain currencies."
   ]
  },
  {
   "cell_type": "markdown",
   "metadata": {},
   "source": [
    "### 5. Two statistical tests for comparing forecasts: Diebold-Mariano-West and Clark-West"
   ]
  },
  {
   "cell_type": "markdown",
   "metadata": {},
   "source": [
    "We are going to implement two statistical tests with the Papell paper to test whether the forecasts are **significantlly** better than a random walk model or not.\n",
    "\n",
    "Recall one version of a random walk model is: $s_{t+1} = s_t + \\epsilon_{t+1}.$ Thus, we predict the future exchange rate to be the current exchange rate: $\\hat{s}_{t+1}^{RW} = s_t.$\n",
    "\n",
    "In the Papell paper, we will use a set of covariates in a linear regression model to forecast exchange rates:\n",
    "\n",
    "$$\\hat{s}_{t+1}^{lr} = s_t + X'_t \\hat{\\beta}_t.$$\n",
    "\n",
    "$X_t$ is a vector of various rates in the economy: inflation, employment, interest.\n",
    "\n",
    "As we did last week, we will compare models based on their ``out-of-sample\" mean-squared error.\n",
    "\n",
    "(This is often called \"mean squared prediction error\" just to note that is an out-of-sample forecast.)\n",
    "\n",
    "$$\\sigma^2 = \\frac{1}{P} \\sum^{T}_{t=T-P+1} (s_{t+1} - \\hat{s}_{t+1})^2.$$\n",
    "\n",
    "$P$ is the number of predictions made.\n",
    "\n",
    "The Diebold-Mariano-West test is based on two papers: Diebold and Mariano (1995) and West (1996).\n",
    "\n",
    "$$H_0 : \\hat{\\sigma}^2_1 = \\hat{\\sigma}^2_2 \\ \\ \\ \\text{v.s.} \\ \\ \\ H_1 : \\hat{\\sigma}^2_1 > \\hat{\\sigma}^2_2.$$\n",
    "\n",
    "The DMW statistic is:\n",
    "\n",
    "$$DMW = \\frac{\\hat{\\sigma}^2_1 - \\hat{\\sigma}_2^2}{\\sqrt{\\frac{\\hat{V}}{P}}} \\rightarrow_d N(0,1). $$\n",
    "\n",
    "$\\hat{V} = \\frac{1}{P} \\sum^T_{t=T-P+1} ((s_{t+1} - \\hat{s}_{t+1}^1)^2 - (s_{t+1} - \\hat{s}^2_{t+1})^2 - (\\hat{\\sigma}^2_1 - \\hat{\\sigma}_2^2))^2.$\n",
    "\n",
    "Given the assumed standard normal distribution, we can reject $H_0$ at level $\\alpha$ if $DMV > z_\\alpha,$ where $z_\\alpha$ is the critical value of the standard normal.\n",
    "\n",
    "The Clark-West Test based on Clark and West (2006) is a refinement of the DMW test based on the criticism of DMW that it under-rejects the null of $\\beta=0.$\n",
    "\n",
    "Our null is $s_{t+1} - s_{t} = \\epsilon_{t+1}$.\n",
    "\n",
    "Our alternative model is $s_{t+1} - s_t = X'_{t+1} \\beta + \\epsilon_{t+1}.$\n",
    "\n",
    "The CW statistic is:\n",
    "\n",
    "$$CW = DMW + \\frac{1}{\\sqrt{\\frac{\\hat{V}}{P}}} \\frac{1}{P}  \\sum^T_{t=T-P+1} (X'_{t+1} \\hat{B}_t)^2 \\rightarrow_d N(0,1) $$\n",
    "\n",
    "We can thus use the same critical values of the standard normal to compare to our new statistic $CW.$"
   ]
  },
  {
   "cell_type": "markdown",
   "metadata": {},
   "source": [
    "### 6. Obtaining the data to replicate Molodtsove and Papell (2009)\n",
    "\n",
    "We will want (a subset of) the following data for March 1973-June 2022 at the monthly level: country GDP; CPI for measure of inflation; money makret rate as a measure of the short-term interest rate; and exchange rates.\n",
    "\n",
    "The IMF has much of this data. You can do the following: Go to the IMF’s International Financial Statistics (IFS) website. And download the following:\n",
    "\n",
    "1) Variables: i. GDP proxied by Economic Activity, Industrial Production, Seasonally adjusted, Index. ii.\n",
    "CPI index. iii. Monetary policy rate proxied by: Interbank Rates, Money Market Rate, Percent per\n",
    "Annum. iv. Exchange rates, proxied by: Exchange Rate, national currency per U.S. dollar, end of\n",
    "period\n",
    "\n",
    "2) Countries: Japan, Switzerland, Australia, Canada, United Kingdom, Sweden, Denmark, Germany,\n",
    "France, Italy, Netherlands, Portugal, United States.\n",
    "\n",
    "3) Time frame: March 1973 to December 1998\n",
    "\n",
    "However, we have already done this for you in the included file."
   ]
  },
  {
   "cell_type": "code",
   "execution_count": 324,
   "metadata": {},
   "outputs": [],
   "source": [
    "# Import Libraries\n",
    "import numpy as np # package for scientific computing\n",
    "import pandas as pd # package for data manipulation\n",
    "import os # package for communicating with operating system\n",
    "import statsmodels.formula.api as smf # package for statistical models i.e. OLS\n",
    "import scipy.stats as st\n",
    "import matplotlib.pyplot as plt"
   ]
  },
  {
   "cell_type": "code",
   "execution_count": 357,
   "metadata": {},
   "outputs": [
    {
     "data": {
      "text/html": [
       "<div>\n",
       "<style scoped>\n",
       "    .dataframe tbody tr th:only-of-type {\n",
       "        vertical-align: middle;\n",
       "    }\n",
       "\n",
       "    .dataframe tbody tr th {\n",
       "        vertical-align: top;\n",
       "    }\n",
       "\n",
       "    .dataframe thead th {\n",
       "        text-align: right;\n",
       "    }\n",
       "</style>\n",
       "<table border=\"1\" class=\"dataframe\">\n",
       "  <thead>\n",
       "    <tr style=\"text-align: right;\">\n",
       "      <th></th>\n",
       "      <th>date</th>\n",
       "      <th>EX_JAP</th>\n",
       "      <th>EX_JAP_2</th>\n",
       "      <th>I_JAP</th>\n",
       "      <th>IPSA_JAP</th>\n",
       "      <th>INFL_JAP</th>\n",
       "      <th>I_US</th>\n",
       "      <th>IPSA_US</th>\n",
       "      <th>INFL_US</th>\n",
       "    </tr>\n",
       "  </thead>\n",
       "  <tbody>\n",
       "    <tr>\n",
       "      <th>0</th>\n",
       "      <td>1971-01-01</td>\n",
       "      <td>NaN</td>\n",
       "      <td>NaN</td>\n",
       "      <td>7.39</td>\n",
       "      <td>45.3845</td>\n",
       "      <td>NaN</td>\n",
       "      <td>4.14</td>\n",
       "      <td>41.3999</td>\n",
       "      <td>NaN</td>\n",
       "    </tr>\n",
       "    <tr>\n",
       "      <th>1</th>\n",
       "      <td>1971-02-01</td>\n",
       "      <td>NaN</td>\n",
       "      <td>NaN</td>\n",
       "      <td>7.25</td>\n",
       "      <td>45.1445</td>\n",
       "      <td>NaN</td>\n",
       "      <td>3.72</td>\n",
       "      <td>41.3133</td>\n",
       "      <td>NaN</td>\n",
       "    </tr>\n",
       "    <tr>\n",
       "      <th>2</th>\n",
       "      <td>1971-03-01</td>\n",
       "      <td>NaN</td>\n",
       "      <td>NaN</td>\n",
       "      <td>7.25</td>\n",
       "      <td>45.6146</td>\n",
       "      <td>NaN</td>\n",
       "      <td>3.71</td>\n",
       "      <td>41.2699</td>\n",
       "      <td>NaN</td>\n",
       "    </tr>\n",
       "    <tr>\n",
       "      <th>3</th>\n",
       "      <td>1971-04-01</td>\n",
       "      <td>NaN</td>\n",
       "      <td>NaN</td>\n",
       "      <td>6.75</td>\n",
       "      <td>45.3845</td>\n",
       "      <td>NaN</td>\n",
       "      <td>4.15</td>\n",
       "      <td>41.5038</td>\n",
       "      <td>NaN</td>\n",
       "    </tr>\n",
       "    <tr>\n",
       "      <th>4</th>\n",
       "      <td>1971-05-01</td>\n",
       "      <td>NaN</td>\n",
       "      <td>NaN</td>\n",
       "      <td>6.54</td>\n",
       "      <td>44.2044</td>\n",
       "      <td>NaN</td>\n",
       "      <td>4.63</td>\n",
       "      <td>41.7117</td>\n",
       "      <td>NaN</td>\n",
       "    </tr>\n",
       "    <tr>\n",
       "      <th>5</th>\n",
       "      <td>1971-06-01</td>\n",
       "      <td>NaN</td>\n",
       "      <td>NaN</td>\n",
       "      <td>6.50</td>\n",
       "      <td>45.1445</td>\n",
       "      <td>NaN</td>\n",
       "      <td>4.91</td>\n",
       "      <td>41.8937</td>\n",
       "      <td>NaN</td>\n",
       "    </tr>\n",
       "    <tr>\n",
       "      <th>6</th>\n",
       "      <td>1971-07-01</td>\n",
       "      <td>NaN</td>\n",
       "      <td>NaN</td>\n",
       "      <td>6.46</td>\n",
       "      <td>45.3045</td>\n",
       "      <td>NaN</td>\n",
       "      <td>5.31</td>\n",
       "      <td>41.7637</td>\n",
       "      <td>NaN</td>\n",
       "    </tr>\n",
       "    <tr>\n",
       "      <th>7</th>\n",
       "      <td>1971-08-01</td>\n",
       "      <td>NaN</td>\n",
       "      <td>NaN</td>\n",
       "      <td>6.25</td>\n",
       "      <td>45.4545</td>\n",
       "      <td>NaN</td>\n",
       "      <td>5.56</td>\n",
       "      <td>41.5298</td>\n",
       "      <td>NaN</td>\n",
       "    </tr>\n",
       "    <tr>\n",
       "      <th>8</th>\n",
       "      <td>1971-09-01</td>\n",
       "      <td>NaN</td>\n",
       "      <td>NaN</td>\n",
       "      <td>6.00</td>\n",
       "      <td>46.0846</td>\n",
       "      <td>NaN</td>\n",
       "      <td>5.55</td>\n",
       "      <td>42.1969</td>\n",
       "      <td>NaN</td>\n",
       "    </tr>\n",
       "    <tr>\n",
       "      <th>9</th>\n",
       "      <td>1971-10-01</td>\n",
       "      <td>NaN</td>\n",
       "      <td>NaN</td>\n",
       "      <td>5.62</td>\n",
       "      <td>45.4545</td>\n",
       "      <td>NaN</td>\n",
       "      <td>5.20</td>\n",
       "      <td>42.5174</td>\n",
       "      <td>NaN</td>\n",
       "    </tr>\n",
       "  </tbody>\n",
       "</table>\n",
       "</div>"
      ],
      "text/plain": [
       "        date  EX_JAP  EX_JAP_2  I_JAP  IPSA_JAP  INFL_JAP  I_US  IPSA_US  \\\n",
       "0 1971-01-01     NaN       NaN   7.39   45.3845       NaN  4.14  41.3999   \n",
       "1 1971-02-01     NaN       NaN   7.25   45.1445       NaN  3.72  41.3133   \n",
       "2 1971-03-01     NaN       NaN   7.25   45.6146       NaN  3.71  41.2699   \n",
       "3 1971-04-01     NaN       NaN   6.75   45.3845       NaN  4.15  41.5038   \n",
       "4 1971-05-01     NaN       NaN   6.54   44.2044       NaN  4.63  41.7117   \n",
       "5 1971-06-01     NaN       NaN   6.50   45.1445       NaN  4.91  41.8937   \n",
       "6 1971-07-01     NaN       NaN   6.46   45.3045       NaN  5.31  41.7637   \n",
       "7 1971-08-01     NaN       NaN   6.25   45.4545       NaN  5.56  41.5298   \n",
       "8 1971-09-01     NaN       NaN   6.00   46.0846       NaN  5.55  42.1969   \n",
       "9 1971-10-01     NaN       NaN   5.62   45.4545       NaN  5.20  42.5174   \n",
       "\n",
       "   INFL_US  \n",
       "0      NaN  \n",
       "1      NaN  \n",
       "2      NaN  \n",
       "3      NaN  \n",
       "4      NaN  \n",
       "5      NaN  \n",
       "6      NaN  \n",
       "7      NaN  \n",
       "8      NaN  \n",
       "9      NaN  "
      ]
     },
     "execution_count": 357,
     "metadata": {},
     "output_type": "execute_result"
    }
   ],
   "source": [
    "# Read data\n",
    "japan = pd.read_excel('ifs_jap_updated.xlsx', parse_dates = True)\n",
    "japan.head(10)\n",
    "\n",
    "\n",
    "#japan = japan.iloc[:426,:].copy()"
   ]
  },
  {
   "cell_type": "markdown",
   "metadata": {},
   "source": [
    "Summary of data above\n",
    "\n",
    "- INFL_US, INFL_JAP : Inflation Rates\n",
    "- IPSA_US, IPSA_JAP : GDP (Not GDP gap)\n",
    "- I_US, I_JAP : Nominal Interest Rates\n",
    "- EX_JAP_2 : Exchange Rates in terms of USD/YEN"
   ]
  },
  {
   "cell_type": "markdown",
   "metadata": {},
   "source": [
    "### 7. Taylor Rule Model in Molodtsove and Pappell (2009)"
   ]
  },
  {
   "cell_type": "markdown",
   "metadata": {},
   "source": [
    "Recap : The Taylor rule states that the central bank of each country decides its nominal interest rate as a linear function of its own inflation rate and GDP gap, i.e. $i^{us}_t = \\alpha^{us} + \\beta^{us}_1\\pi^{us}_t + \\beta^{us}_2 (y^{us}_t - \\bar{y}^{us})$\n",
    "\n",
    "Also, theoretically, we know that the change in the interest rate differential affect exchange rates. Thus, assuming the Taylor rule is true, the MP (2009) paper builds a forecasting model for log nominal exchange rate using the Taylor rule fundamental varables in two countries, which are inflation rates and GDP gaps. \n",
    "\n",
    "The simplest specification of the exchange rate forecasting equation used in MP is as follows:\n",
    "\n",
    "$$s_{t+1} - s_t = \\Delta s_{t+1} = \\beta_1 + \\beta_2 (\\pi^{us}_t - \\pi^{ja}_t) + \\beta_3 (\\text{gap}^{us}_t - \\text{gap}^{ja}_t) + \\epsilon_t $$\n",
    "\n",
    "This specification is called a \"homogenous, symmetric Taylor rule model without smoothing\" in the paper."
   ]
  },
  {
   "cell_type": "markdown",
   "metadata": {},
   "source": [
    "### (a) Data Cleaning\n",
    "\n",
    "Note that we only have data on actual GDP, not GDP gap. We will discuss this right after we clean our data as below."
   ]
  },
  {
   "cell_type": "code",
   "execution_count": 348,
   "metadata": {},
   "outputs": [],
   "source": [
    "### Data Cleaning : Use observations from 1973M3 to October 2022\n",
    "## Dependent Variable : s_t+1, s_t\n",
    "# s_current : log of nominal exchange rates at t\n",
    "s_current = np.log(japan.loc[26:len(japan)-2,'EX_JAP_2']).reset_index(drop=True) #Why reset index? To combine into a single data set later\n",
    "s_current = s_current.rename('s_current')\n",
    "\n",
    "\n",
    "# s_future : log of nominal exchange rates at t+1\n",
    "s_future = np.log(japan.loc[27:,'EX_JAP_2']).reset_index(drop=True)\n",
    "s_future = s_future.rename('s_future')\n",
    "\n",
    "\n",
    "# s_change : change in log of exchange rates (s_t+1 - s_t)\n",
    "s_change = s_future - s_current\n",
    "s_change = s_change.rename('s_change')"
   ]
  },
  {
   "cell_type": "code",
   "execution_count": 330,
   "metadata": {},
   "outputs": [
    {
     "data": {
      "text/html": [
       "<div>\n",
       "<style scoped>\n",
       "    .dataframe tbody tr th:only-of-type {\n",
       "        vertical-align: middle;\n",
       "    }\n",
       "\n",
       "    .dataframe tbody tr th {\n",
       "        vertical-align: top;\n",
       "    }\n",
       "\n",
       "    .dataframe thead th {\n",
       "        text-align: right;\n",
       "    }\n",
       "</style>\n",
       "<table border=\"1\" class=\"dataframe\">\n",
       "  <thead>\n",
       "    <tr style=\"text-align: right;\">\n",
       "      <th></th>\n",
       "      <th>date</th>\n",
       "      <th>s_future</th>\n",
       "      <th>s_current</th>\n",
       "      <th>s_change</th>\n",
       "      <th>inf_diff</th>\n",
       "      <th>IPSA_JAP</th>\n",
       "      <th>IPSA_US</th>\n",
       "    </tr>\n",
       "  </thead>\n",
       "  <tbody>\n",
       "    <tr>\n",
       "      <th>0</th>\n",
       "      <td>1973-04-01</td>\n",
       "      <td>5.581615</td>\n",
       "      <td>5.582857</td>\n",
       "      <td>-0.001242</td>\n",
       "      <td>-4.081148</td>\n",
       "      <td>57.626462</td>\n",
       "      <td>49.277937</td>\n",
       "    </tr>\n",
       "    <tr>\n",
       "      <th>1</th>\n",
       "      <td>1973-05-01</td>\n",
       "      <td>5.579541</td>\n",
       "      <td>5.581615</td>\n",
       "      <td>-0.002074</td>\n",
       "      <td>-4.082616</td>\n",
       "      <td>57.462750</td>\n",
       "      <td>49.118862</td>\n",
       "    </tr>\n",
       "    <tr>\n",
       "      <th>2</th>\n",
       "      <td>1973-06-01</td>\n",
       "      <td>5.580861</td>\n",
       "      <td>5.579541</td>\n",
       "      <td>0.001320</td>\n",
       "      <td>-5.297365</td>\n",
       "      <td>58.035741</td>\n",
       "      <td>49.454688</td>\n",
       "    </tr>\n",
       "    <tr>\n",
       "      <th>3</th>\n",
       "      <td>1973-07-01</td>\n",
       "      <td>5.573864</td>\n",
       "      <td>5.580861</td>\n",
       "      <td>-0.006998</td>\n",
       "      <td>-4.800251</td>\n",
       "      <td>58.608731</td>\n",
       "      <td>49.481200</td>\n",
       "    </tr>\n",
       "    <tr>\n",
       "      <th>4</th>\n",
       "      <td>1973-08-01</td>\n",
       "      <td>5.580861</td>\n",
       "      <td>5.573864</td>\n",
       "      <td>0.006998</td>\n",
       "      <td>-5.919804</td>\n",
       "      <td>57.953885</td>\n",
       "      <td>49.657950</td>\n",
       "    </tr>\n",
       "    <tr>\n",
       "      <th>5</th>\n",
       "      <td>1973-09-01</td>\n",
       "      <td>5.582368</td>\n",
       "      <td>5.580861</td>\n",
       "      <td>0.001507</td>\n",
       "      <td>-4.483454</td>\n",
       "      <td>59.672856</td>\n",
       "      <td>49.560738</td>\n",
       "    </tr>\n",
       "    <tr>\n",
       "      <th>6</th>\n",
       "      <td>1973-10-01</td>\n",
       "      <td>5.586612</td>\n",
       "      <td>5.582368</td>\n",
       "      <td>0.004244</td>\n",
       "      <td>-6.962422</td>\n",
       "      <td>58.854298</td>\n",
       "      <td>49.958425</td>\n",
       "    </tr>\n",
       "    <tr>\n",
       "      <th>7</th>\n",
       "      <td>1973-11-01</td>\n",
       "      <td>5.634790</td>\n",
       "      <td>5.586612</td>\n",
       "      <td>0.048178</td>\n",
       "      <td>-6.444392</td>\n",
       "      <td>59.672856</td>\n",
       "      <td>50.276576</td>\n",
       "    </tr>\n",
       "    <tr>\n",
       "      <th>8</th>\n",
       "      <td>1973-12-01</td>\n",
       "      <td>5.634790</td>\n",
       "      <td>5.634790</td>\n",
       "      <td>0.000000</td>\n",
       "      <td>-6.829082</td>\n",
       "      <td>60.245846</td>\n",
       "      <td>50.462163</td>\n",
       "    </tr>\n",
       "    <tr>\n",
       "      <th>9</th>\n",
       "      <td>1974-01-01</td>\n",
       "      <td>5.700444</td>\n",
       "      <td>5.634790</td>\n",
       "      <td>0.065654</td>\n",
       "      <td>-9.627451</td>\n",
       "      <td>60.245846</td>\n",
       "      <td>50.347276</td>\n",
       "    </tr>\n",
       "  </tbody>\n",
       "</table>\n",
       "</div>"
      ],
      "text/plain": [
       "        date  s_future  s_current  s_change  inf_diff   IPSA_JAP    IPSA_US\n",
       "0 1973-04-01  5.581615   5.582857 -0.001242 -4.081148  57.626462  49.277937\n",
       "1 1973-05-01  5.579541   5.581615 -0.002074 -4.082616  57.462750  49.118862\n",
       "2 1973-06-01  5.580861   5.579541  0.001320 -5.297365  58.035741  49.454688\n",
       "3 1973-07-01  5.573864   5.580861 -0.006998 -4.800251  58.608731  49.481200\n",
       "4 1973-08-01  5.580861   5.573864  0.006998 -5.919804  57.953885  49.657950\n",
       "5 1973-09-01  5.582368   5.580861  0.001507 -4.483454  59.672856  49.560738\n",
       "6 1973-10-01  5.586612   5.582368  0.004244 -6.962422  58.854298  49.958425\n",
       "7 1973-11-01  5.634790   5.586612  0.048178 -6.444392  59.672856  50.276576\n",
       "8 1973-12-01  5.634790   5.634790  0.000000 -6.829082  60.245846  50.462163\n",
       "9 1974-01-01  5.700444   5.634790  0.065654 -9.627451  60.245846  50.347276"
      ]
     },
     "execution_count": 330,
     "metadata": {},
     "output_type": "execute_result"
    }
   ],
   "source": [
    "## Independent Variables\n",
    "# inf_us, inf_japan : us inflation at t, japan inflation at t\n",
    "inf_japan = japan.loc[26:len(japan)-2,'INFL_JAP'].reset_index(drop=True)\n",
    "inf_us = japan.loc[26:len(japan)-2,'INFL_US'].reset_index(drop=True)\n",
    "inf_diff = inf_us - inf_japan\n",
    "inf_diff = inf_diff.rename('inf_diff')\n",
    "\n",
    "# output_us, output_japan : us output at t, japan output at t\n",
    "output_japan = japan.loc[26:len(japan)-2,'IPSA_JAP'].reset_index(drop=True)\n",
    "output_us = japan.loc[26:len(japan)-2,'IPSA_US'].reset_index(drop=True)\n",
    "\n",
    "\n",
    "# date : Time at t+1\n",
    "date = japan.loc[27:,'date'].reset_index(drop=True)\n",
    "\n",
    "\n",
    "# Combine all variables into a new data set\n",
    "japan_const = pd.concat([date, s_future, s_current, s_change, inf_diff, output_japan, output_us], axis=1)\n",
    "japan_const.head(10)"
   ]
  },
  {
   "cell_type": "markdown",
   "metadata": {},
   "source": [
    "We need to define potential output for the output gap, since we do not know which definition of potential output is used by central banks. Here we consider percentage deviations of actual output from a linear time trend as output gap.\n",
    "\n",
    "The potential output for the first period is calculated using output series from 1971:1 to 1973:3, and it is updated each period in order to mimic as closely as possible the information available to the central banks at the time the decisions were made."
   ]
  },
  {
   "cell_type": "code",
   "execution_count": 331,
   "metadata": {},
   "outputs": [
    {
     "data": {
      "text/plain": [
       "596"
      ]
     },
     "execution_count": 331,
     "metadata": {},
     "output_type": "execute_result"
    }
   ],
   "source": [
    "len(japan_const)"
   ]
  },
  {
   "cell_type": "code",
   "execution_count": 332,
   "metadata": {
    "scrolled": false
   },
   "outputs": [],
   "source": [
    "## Estimate of Output Gap\n",
    "# Linear Trend\n",
    "# Output Gap in Japan and US\n",
    "japan['t'] = pd.DataFrame({'t' : range(1,len(japan)+1)})\n",
    "\n",
    "for i in range(0,len(japan_const)): # Updating the potential output each period\n",
    "    \n",
    "    # note that we are expanding the traning set each loop, starting from 0:27\n",
    "    linear_trend_japan = smf.ols(formula = 'IPSA_JAP ~ t', data=japan[0:27+i]).fit()\n",
    "    \n",
    "    # we make a prediction for the next period\n",
    "    japan_const.loc[i,'japan_potential'] = linear_trend_japan.predict(japan['t'][27+i:28+i])[27+i]\n",
    "    \n",
    "    # Repeat for the US\n",
    "    linear_trend_us = smf.ols(formula = 'IPSA_US ~ t', data=japan[0:27+i]).fit()\n",
    "    japan_const.loc[i,'us_potential'] = linear_trend_us.predict(japan['t'][27+i:28+i])[27+i]\n",
    "    \n",
    "japan_const['japan_gap'] = (japan_const['IPSA_JAP'] - japan_const['japan_potential'])/japan_const['japan_potential']\n",
    "japan_const['us_gap'] = (japan_const['IPSA_US'] - japan_const['us_potential'])/japan_const['us_potential']\n",
    "\n",
    "\n",
    "# Output Gap differential between US and Japan\n",
    "japan_const['gap_diff'] = japan_const['us_gap'] - japan_const['japan_gap']\n",
    "\n",
    "\n",
    "# Keep variables only used for our model\n",
    "japan_const=japan_const[['date', 's_future', 's_current', 's_change', 'inf_diff', 'gap_diff']]"
   ]
  },
  {
   "cell_type": "code",
   "execution_count": 333,
   "metadata": {},
   "outputs": [],
   "source": [
    "## Make sure all columns have float numbers\n",
    "japan_const.loc[:,'s_future'] = japan_const.loc[:,'s_future'].apply(float)\n",
    "japan_const.loc[:,'s_current'] = japan_const.loc[:,'s_current'].apply(float)\n",
    "japan_const.loc[:,'s_change'] = japan_const.loc[:,'s_change'].apply(float)\n",
    "japan_const.loc[:,'inf_diff'] = japan_const.loc[:,'inf_diff'].apply(float)\n",
    "japan_const.loc[:,'gap_diff'] = japan_const.loc[:,'gap_diff'].apply(float)\n"
   ]
  },
  {
   "cell_type": "code",
   "execution_count": 334,
   "metadata": {},
   "outputs": [
    {
     "data": {
      "text/html": [
       "<div>\n",
       "<style scoped>\n",
       "    .dataframe tbody tr th:only-of-type {\n",
       "        vertical-align: middle;\n",
       "    }\n",
       "\n",
       "    .dataframe tbody tr th {\n",
       "        vertical-align: top;\n",
       "    }\n",
       "\n",
       "    .dataframe thead th {\n",
       "        text-align: right;\n",
       "    }\n",
       "</style>\n",
       "<table border=\"1\" class=\"dataframe\">\n",
       "  <thead>\n",
       "    <tr style=\"text-align: right;\">\n",
       "      <th></th>\n",
       "      <th>date</th>\n",
       "      <th>s_future</th>\n",
       "      <th>s_current</th>\n",
       "      <th>s_change</th>\n",
       "      <th>inf_diff</th>\n",
       "      <th>gap_diff</th>\n",
       "    </tr>\n",
       "  </thead>\n",
       "  <tbody>\n",
       "    <tr>\n",
       "      <th>0</th>\n",
       "      <td>1973-04-01</td>\n",
       "      <td>5.581615</td>\n",
       "      <td>5.582857</td>\n",
       "      <td>-0.001242</td>\n",
       "      <td>-4.081148</td>\n",
       "      <td>-0.054921</td>\n",
       "    </tr>\n",
       "    <tr>\n",
       "      <th>1</th>\n",
       "      <td>1973-05-01</td>\n",
       "      <td>5.579541</td>\n",
       "      <td>5.581615</td>\n",
       "      <td>-0.002074</td>\n",
       "      <td>-4.082616</td>\n",
       "      <td>-0.045133</td>\n",
       "    </tr>\n",
       "    <tr>\n",
       "      <th>2</th>\n",
       "      <td>1973-06-01</td>\n",
       "      <td>5.580861</td>\n",
       "      <td>5.579541</td>\n",
       "      <td>0.001320</td>\n",
       "      <td>-5.297365</td>\n",
       "      <td>-0.039740</td>\n",
       "    </tr>\n",
       "    <tr>\n",
       "      <th>3</th>\n",
       "      <td>1973-07-01</td>\n",
       "      <td>5.573864</td>\n",
       "      <td>5.580861</td>\n",
       "      <td>-0.006998</td>\n",
       "      <td>-4.800251</td>\n",
       "      <td>-0.040510</td>\n",
       "    </tr>\n",
       "    <tr>\n",
       "      <th>4</th>\n",
       "      <td>1973-08-01</td>\n",
       "      <td>5.580861</td>\n",
       "      <td>5.573864</td>\n",
       "      <td>0.006998</td>\n",
       "      <td>-5.919804</td>\n",
       "      <td>-0.019725</td>\n",
       "    </tr>\n",
       "    <tr>\n",
       "      <th>...</th>\n",
       "      <td>...</td>\n",
       "      <td>...</td>\n",
       "      <td>...</td>\n",
       "      <td>...</td>\n",
       "      <td>...</td>\n",
       "      <td>...</td>\n",
       "    </tr>\n",
       "    <tr>\n",
       "      <th>591</th>\n",
       "      <td>2022-07-01</td>\n",
       "      <td>4.890349</td>\n",
       "      <td>4.917277</td>\n",
       "      <td>-0.026927</td>\n",
       "      <td>6.748200</td>\n",
       "      <td>0.097578</td>\n",
       "    </tr>\n",
       "    <tr>\n",
       "      <th>592</th>\n",
       "      <td>2022-08-01</td>\n",
       "      <td>4.931664</td>\n",
       "      <td>4.890349</td>\n",
       "      <td>0.041315</td>\n",
       "      <td>5.916991</td>\n",
       "      <td>0.095469</td>\n",
       "    </tr>\n",
       "    <tr>\n",
       "      <th>593</th>\n",
       "      <td>2022-09-01</td>\n",
       "      <td>4.974939</td>\n",
       "      <td>4.931664</td>\n",
       "      <td>0.043275</td>\n",
       "      <td>5.253665</td>\n",
       "      <td>0.075794</td>\n",
       "    </tr>\n",
       "    <tr>\n",
       "      <th>594</th>\n",
       "      <td>2022-10-01</td>\n",
       "      <td>4.998833</td>\n",
       "      <td>4.974939</td>\n",
       "      <td>0.023894</td>\n",
       "      <td>5.204667</td>\n",
       "      <td>NaN</td>\n",
       "    </tr>\n",
       "    <tr>\n",
       "      <th>595</th>\n",
       "      <td>2022-11-01</td>\n",
       "      <td>4.933034</td>\n",
       "      <td>4.998833</td>\n",
       "      <td>-0.065799</td>\n",
       "      <td>3.941624</td>\n",
       "      <td>NaN</td>\n",
       "    </tr>\n",
       "  </tbody>\n",
       "</table>\n",
       "<p>596 rows × 6 columns</p>\n",
       "</div>"
      ],
      "text/plain": [
       "          date  s_future  s_current  s_change  inf_diff  gap_diff\n",
       "0   1973-04-01  5.581615   5.582857 -0.001242 -4.081148 -0.054921\n",
       "1   1973-05-01  5.579541   5.581615 -0.002074 -4.082616 -0.045133\n",
       "2   1973-06-01  5.580861   5.579541  0.001320 -5.297365 -0.039740\n",
       "3   1973-07-01  5.573864   5.580861 -0.006998 -4.800251 -0.040510\n",
       "4   1973-08-01  5.580861   5.573864  0.006998 -5.919804 -0.019725\n",
       "..         ...       ...        ...       ...       ...       ...\n",
       "591 2022-07-01  4.890349   4.917277 -0.026927  6.748200  0.097578\n",
       "592 2022-08-01  4.931664   4.890349  0.041315  5.916991  0.095469\n",
       "593 2022-09-01  4.974939   4.931664  0.043275  5.253665  0.075794\n",
       "594 2022-10-01  4.998833   4.974939  0.023894  5.204667       NaN\n",
       "595 2022-11-01  4.933034   4.998833 -0.065799  3.941624       NaN\n",
       "\n",
       "[596 rows x 6 columns]"
      ]
     },
     "execution_count": 334,
     "metadata": {},
     "output_type": "execute_result"
    }
   ],
   "source": [
    "japan_const"
   ]
  },
  {
   "cell_type": "markdown",
   "metadata": {},
   "source": [
    "### (b) Run regressions to generate the forecasts of exchange rates based on the Taylor rule"
   ]
  },
  {
   "cell_type": "code",
   "execution_count": 335,
   "metadata": {},
   "outputs": [
    {
     "data": {
      "text/html": [
       "<div>\n",
       "<style scoped>\n",
       "    .dataframe tbody tr th:only-of-type {\n",
       "        vertical-align: middle;\n",
       "    }\n",
       "\n",
       "    .dataframe tbody tr th {\n",
       "        vertical-align: top;\n",
       "    }\n",
       "\n",
       "    .dataframe thead th {\n",
       "        text-align: right;\n",
       "    }\n",
       "</style>\n",
       "<table border=\"1\" class=\"dataframe\">\n",
       "  <thead>\n",
       "    <tr style=\"text-align: right;\">\n",
       "      <th></th>\n",
       "      <th>date</th>\n",
       "      <th>s_future</th>\n",
       "      <th>s_current</th>\n",
       "      <th>s_change</th>\n",
       "      <th>inf_diff</th>\n",
       "      <th>gap_diff</th>\n",
       "      <th>s_change_fitted</th>\n",
       "      <th>s_forecast</th>\n",
       "      <th>error</th>\n",
       "    </tr>\n",
       "  </thead>\n",
       "  <tbody>\n",
       "    <tr>\n",
       "      <th>586</th>\n",
       "      <td>2022-02-01</td>\n",
       "      <td>4.749703</td>\n",
       "      <td>4.748664</td>\n",
       "      <td>0.001039</td>\n",
       "      <td>6.978870</td>\n",
       "      <td>0.097970</td>\n",
       "      <td>0.011913</td>\n",
       "      <td>4.760578</td>\n",
       "      <td>-0.010874</td>\n",
       "    </tr>\n",
       "    <tr>\n",
       "      <th>587</th>\n",
       "      <td>2022-03-01</td>\n",
       "      <td>4.807294</td>\n",
       "      <td>4.749703</td>\n",
       "      <td>0.057591</td>\n",
       "      <td>6.969260</td>\n",
       "      <td>0.084894</td>\n",
       "      <td>0.006823</td>\n",
       "      <td>4.756526</td>\n",
       "      <td>0.050768</td>\n",
       "    </tr>\n",
       "    <tr>\n",
       "      <th>588</th>\n",
       "      <td>2022-04-01</td>\n",
       "      <td>4.866765</td>\n",
       "      <td>4.807294</td>\n",
       "      <td>0.059471</td>\n",
       "      <td>7.341254</td>\n",
       "      <td>0.093534</td>\n",
       "      <td>0.013165</td>\n",
       "      <td>4.820460</td>\n",
       "      <td>0.046305</td>\n",
       "    </tr>\n",
       "    <tr>\n",
       "      <th>589</th>\n",
       "      <td>2022-05-01</td>\n",
       "      <td>4.853592</td>\n",
       "      <td>4.866765</td>\n",
       "      <td>-0.013173</td>\n",
       "      <td>5.836833</td>\n",
       "      <td>0.109987</td>\n",
       "      <td>0.018188</td>\n",
       "      <td>4.884953</td>\n",
       "      <td>-0.031361</td>\n",
       "    </tr>\n",
       "    <tr>\n",
       "      <th>590</th>\n",
       "      <td>2022-06-01</td>\n",
       "      <td>4.917277</td>\n",
       "      <td>4.853592</td>\n",
       "      <td>0.063685</td>\n",
       "      <td>6.167025</td>\n",
       "      <td>0.166151</td>\n",
       "      <td>0.028723</td>\n",
       "      <td>4.882315</td>\n",
       "      <td>0.034962</td>\n",
       "    </tr>\n",
       "    <tr>\n",
       "      <th>591</th>\n",
       "      <td>2022-07-01</td>\n",
       "      <td>4.890349</td>\n",
       "      <td>4.917277</td>\n",
       "      <td>-0.026927</td>\n",
       "      <td>6.748200</td>\n",
       "      <td>0.097578</td>\n",
       "      <td>0.018352</td>\n",
       "      <td>4.935628</td>\n",
       "      <td>-0.045279</td>\n",
       "    </tr>\n",
       "    <tr>\n",
       "      <th>592</th>\n",
       "      <td>2022-08-01</td>\n",
       "      <td>4.931664</td>\n",
       "      <td>4.890349</td>\n",
       "      <td>0.041315</td>\n",
       "      <td>5.916991</td>\n",
       "      <td>0.095469</td>\n",
       "      <td>0.013918</td>\n",
       "      <td>4.904267</td>\n",
       "      <td>0.027397</td>\n",
       "    </tr>\n",
       "    <tr>\n",
       "      <th>593</th>\n",
       "      <td>2022-09-01</td>\n",
       "      <td>4.974939</td>\n",
       "      <td>4.931664</td>\n",
       "      <td>0.043275</td>\n",
       "      <td>5.253665</td>\n",
       "      <td>0.075794</td>\n",
       "      <td>0.009314</td>\n",
       "      <td>4.940979</td>\n",
       "      <td>0.033960</td>\n",
       "    </tr>\n",
       "    <tr>\n",
       "      <th>594</th>\n",
       "      <td>2022-10-01</td>\n",
       "      <td>4.998833</td>\n",
       "      <td>4.974939</td>\n",
       "      <td>0.023894</td>\n",
       "      <td>5.204667</td>\n",
       "      <td>NaN</td>\n",
       "      <td>NaN</td>\n",
       "      <td>NaN</td>\n",
       "      <td>NaN</td>\n",
       "    </tr>\n",
       "    <tr>\n",
       "      <th>595</th>\n",
       "      <td>2022-11-01</td>\n",
       "      <td>4.933034</td>\n",
       "      <td>4.998833</td>\n",
       "      <td>-0.065799</td>\n",
       "      <td>3.941624</td>\n",
       "      <td>NaN</td>\n",
       "      <td>NaN</td>\n",
       "      <td>NaN</td>\n",
       "      <td>NaN</td>\n",
       "    </tr>\n",
       "  </tbody>\n",
       "</table>\n",
       "</div>"
      ],
      "text/plain": [
       "          date  s_future  s_current  s_change  inf_diff  gap_diff  \\\n",
       "586 2022-02-01  4.749703   4.748664  0.001039  6.978870  0.097970   \n",
       "587 2022-03-01  4.807294   4.749703  0.057591  6.969260  0.084894   \n",
       "588 2022-04-01  4.866765   4.807294  0.059471  7.341254  0.093534   \n",
       "589 2022-05-01  4.853592   4.866765 -0.013173  5.836833  0.109987   \n",
       "590 2022-06-01  4.917277   4.853592  0.063685  6.167025  0.166151   \n",
       "591 2022-07-01  4.890349   4.917277 -0.026927  6.748200  0.097578   \n",
       "592 2022-08-01  4.931664   4.890349  0.041315  5.916991  0.095469   \n",
       "593 2022-09-01  4.974939   4.931664  0.043275  5.253665  0.075794   \n",
       "594 2022-10-01  4.998833   4.974939  0.023894  5.204667       NaN   \n",
       "595 2022-11-01  4.933034   4.998833 -0.065799  3.941624       NaN   \n",
       "\n",
       "     s_change_fitted  s_forecast     error  \n",
       "586         0.011913    4.760578 -0.010874  \n",
       "587         0.006823    4.756526  0.050768  \n",
       "588         0.013165    4.820460  0.046305  \n",
       "589         0.018188    4.884953 -0.031361  \n",
       "590         0.028723    4.882315  0.034962  \n",
       "591         0.018352    4.935628 -0.045279  \n",
       "592         0.013918    4.904267  0.027397  \n",
       "593         0.009314    4.940979  0.033960  \n",
       "594              NaN         NaN       NaN  \n",
       "595              NaN         NaN       NaN  "
      ]
     },
     "execution_count": 335,
     "metadata": {},
     "output_type": "execute_result"
    }
   ],
   "source": [
    "# Create empty columns for fitted values of changes i.e. changes of log exchange rates\n",
    "japan_const['s_change_fitted'] = np.nan\n",
    "\n",
    "# Out-of-sample Forecasts with rolling window : Here, we use the first 120 observations\n",
    "for i in range(120,len(japan_const)):\n",
    "    \n",
    "    # we regress the change in teh exchange rate on the taylor rule fundamentals\n",
    "    tmp = smf.ols(formula = 's_change ~ inf_diff + gap_diff', data=japan_const[i-120:i]).fit()\n",
    "    \n",
    "    # make a prediction for the next period\n",
    "    japan_const.loc[i,'s_change_fitted'] = tmp.predict(japan_const[['inf_diff', 'gap_diff']][i:i+1])[i]\n",
    "\n",
    "# Forecasts\n",
    "japan_const['s_forecast'] = japan_const['s_change_fitted'] + japan_const['s_current']\n",
    "\n",
    "# Forecast Error\n",
    "japan_const['error'] = japan_const['s_future']-japan_const['s_forecast']\n",
    "\n",
    "\n",
    "japan_const.tail(10)"
   ]
  },
  {
   "cell_type": "code",
   "execution_count": 336,
   "metadata": {},
   "outputs": [],
   "source": [
    "jp2 = japan_const.dropna()\n",
    "jp2 = jp2.copy()\n",
    "\n",
    "# Go long if we forecast the exchange rate will increase, otherwise short\n",
    "jp2['signal'] = np.where(jp2['s_change_fitted'] >= 0, 1, -1)\n",
    "\n",
    "# calculate returns\n",
    "jp2['strategy_return'] = (np.exp((jp2['signal']*s_change).cumsum())-1)*100\n",
    "jp2['returns'] = np.exp(jp2['signal']*s_change)"
   ]
  },
  {
   "cell_type": "code",
   "execution_count": 337,
   "metadata": {},
   "outputs": [
    {
     "data": {
      "image/png": "[encoded data removed]",
      "text/plain": [
       "<Figure size 1000x500 with 1 Axes>"
      ]
     },
     "metadata": {},
     "output_type": "display_data"
    }
   ],
   "source": [
    "jp2c = jp2.copy()\n",
    "jp2c.index = pd.to_datetime(jp2c.date)\n",
    "plt.figure(figsize = (10, 5))\n",
    "plt.plot(jp2c['strategy_return'])\n",
    "plt.ylabel(\"Cumulative Returns (%)\")\n",
    "plt.title(\"Molodstova and Papell Simple Taylor Rule (April 1984 - August 2022)\")\n",
    "\n",
    "plt.legend([\"Equity Line\"])\n",
    "plt.grid()"
   ]
  },
  {
   "cell_type": "code",
   "execution_count": 338,
   "metadata": {},
   "outputs": [
    {
     "data": {
      "text/html": [
       "<div>\n",
       "<style scoped>\n",
       "    .dataframe tbody tr th:only-of-type {\n",
       "        vertical-align: middle;\n",
       "    }\n",
       "\n",
       "    .dataframe tbody tr th {\n",
       "        vertical-align: top;\n",
       "    }\n",
       "\n",
       "    .dataframe thead th {\n",
       "        text-align: right;\n",
       "    }\n",
       "</style>\n",
       "<table border=\"1\" class=\"dataframe\">\n",
       "  <thead>\n",
       "    <tr style=\"text-align: right;\">\n",
       "      <th></th>\n",
       "      <th>date</th>\n",
       "      <th>s_future</th>\n",
       "      <th>s_current</th>\n",
       "      <th>s_change</th>\n",
       "      <th>inf_diff</th>\n",
       "      <th>gap_diff</th>\n",
       "      <th>s_change_fitted</th>\n",
       "      <th>s_forecast</th>\n",
       "      <th>error</th>\n",
       "    </tr>\n",
       "  </thead>\n",
       "  <tbody>\n",
       "    <tr>\n",
       "      <th>586</th>\n",
       "      <td>2022-02-01</td>\n",
       "      <td>4.749703</td>\n",
       "      <td>4.748664</td>\n",
       "      <td>0.001039</td>\n",
       "      <td>6.978870</td>\n",
       "      <td>0.097970</td>\n",
       "      <td>0.003443</td>\n",
       "      <td>4.752108</td>\n",
       "      <td>-0.002404</td>\n",
       "    </tr>\n",
       "    <tr>\n",
       "      <th>587</th>\n",
       "      <td>2022-03-01</td>\n",
       "      <td>4.807294</td>\n",
       "      <td>4.749703</td>\n",
       "      <td>0.057591</td>\n",
       "      <td>6.969260</td>\n",
       "      <td>0.084894</td>\n",
       "      <td>0.002997</td>\n",
       "      <td>4.752700</td>\n",
       "      <td>0.054594</td>\n",
       "    </tr>\n",
       "    <tr>\n",
       "      <th>588</th>\n",
       "      <td>2022-04-01</td>\n",
       "      <td>4.866765</td>\n",
       "      <td>4.807294</td>\n",
       "      <td>0.059471</td>\n",
       "      <td>7.341254</td>\n",
       "      <td>0.093534</td>\n",
       "      <td>0.003323</td>\n",
       "      <td>4.810617</td>\n",
       "      <td>0.056148</td>\n",
       "    </tr>\n",
       "    <tr>\n",
       "      <th>589</th>\n",
       "      <td>2022-05-01</td>\n",
       "      <td>4.853592</td>\n",
       "      <td>4.866765</td>\n",
       "      <td>-0.013173</td>\n",
       "      <td>5.836833</td>\n",
       "      <td>0.109987</td>\n",
       "      <td>0.003921</td>\n",
       "      <td>4.870685</td>\n",
       "      <td>-0.017094</td>\n",
       "    </tr>\n",
       "    <tr>\n",
       "      <th>590</th>\n",
       "      <td>2022-06-01</td>\n",
       "      <td>4.917277</td>\n",
       "      <td>4.853592</td>\n",
       "      <td>0.063685</td>\n",
       "      <td>6.167025</td>\n",
       "      <td>0.166151</td>\n",
       "      <td>0.004056</td>\n",
       "      <td>4.857647</td>\n",
       "      <td>0.059629</td>\n",
       "    </tr>\n",
       "    <tr>\n",
       "      <th>591</th>\n",
       "      <td>2022-07-01</td>\n",
       "      <td>4.890349</td>\n",
       "      <td>4.917277</td>\n",
       "      <td>-0.026927</td>\n",
       "      <td>6.748200</td>\n",
       "      <td>0.097578</td>\n",
       "      <td>0.004534</td>\n",
       "      <td>4.921810</td>\n",
       "      <td>-0.031461</td>\n",
       "    </tr>\n",
       "    <tr>\n",
       "      <th>592</th>\n",
       "      <td>2022-08-01</td>\n",
       "      <td>4.931664</td>\n",
       "      <td>4.890349</td>\n",
       "      <td>0.041315</td>\n",
       "      <td>5.916991</td>\n",
       "      <td>0.095469</td>\n",
       "      <td>0.004431</td>\n",
       "      <td>4.894780</td>\n",
       "      <td>0.036884</td>\n",
       "    </tr>\n",
       "    <tr>\n",
       "      <th>593</th>\n",
       "      <td>2022-09-01</td>\n",
       "      <td>4.974939</td>\n",
       "      <td>4.931664</td>\n",
       "      <td>0.043275</td>\n",
       "      <td>5.253665</td>\n",
       "      <td>0.075794</td>\n",
       "      <td>0.004743</td>\n",
       "      <td>4.936408</td>\n",
       "      <td>0.038531</td>\n",
       "    </tr>\n",
       "    <tr>\n",
       "      <th>594</th>\n",
       "      <td>2022-10-01</td>\n",
       "      <td>4.998833</td>\n",
       "      <td>4.974939</td>\n",
       "      <td>0.023894</td>\n",
       "      <td>5.204667</td>\n",
       "      <td>NaN</td>\n",
       "      <td>0.005198</td>\n",
       "      <td>4.980137</td>\n",
       "      <td>0.018696</td>\n",
       "    </tr>\n",
       "    <tr>\n",
       "      <th>595</th>\n",
       "      <td>2022-11-01</td>\n",
       "      <td>4.933034</td>\n",
       "      <td>4.998833</td>\n",
       "      <td>-0.065799</td>\n",
       "      <td>3.941624</td>\n",
       "      <td>NaN</td>\n",
       "      <td>0.005178</td>\n",
       "      <td>5.004010</td>\n",
       "      <td>-0.070976</td>\n",
       "    </tr>\n",
       "  </tbody>\n",
       "</table>\n",
       "</div>"
      ],
      "text/plain": [
       "          date  s_future  s_current  s_change  inf_diff  gap_diff  \\\n",
       "586 2022-02-01  4.749703   4.748664  0.001039  6.978870  0.097970   \n",
       "587 2022-03-01  4.807294   4.749703  0.057591  6.969260  0.084894   \n",
       "588 2022-04-01  4.866765   4.807294  0.059471  7.341254  0.093534   \n",
       "589 2022-05-01  4.853592   4.866765 -0.013173  5.836833  0.109987   \n",
       "590 2022-06-01  4.917277   4.853592  0.063685  6.167025  0.166151   \n",
       "591 2022-07-01  4.890349   4.917277 -0.026927  6.748200  0.097578   \n",
       "592 2022-08-01  4.931664   4.890349  0.041315  5.916991  0.095469   \n",
       "593 2022-09-01  4.974939   4.931664  0.043275  5.253665  0.075794   \n",
       "594 2022-10-01  4.998833   4.974939  0.023894  5.204667       NaN   \n",
       "595 2022-11-01  4.933034   4.998833 -0.065799  3.941624       NaN   \n",
       "\n",
       "     s_change_fitted  s_forecast     error  \n",
       "586         0.003443    4.752108 -0.002404  \n",
       "587         0.002997    4.752700  0.054594  \n",
       "588         0.003323    4.810617  0.056148  \n",
       "589         0.003921    4.870685 -0.017094  \n",
       "590         0.004056    4.857647  0.059629  \n",
       "591         0.004534    4.921810 -0.031461  \n",
       "592         0.004431    4.894780  0.036884  \n",
       "593         0.004743    4.936408  0.038531  \n",
       "594         0.005198    4.980137  0.018696  \n",
       "595         0.005178    5.004010 -0.070976  "
      ]
     },
     "execution_count": 338,
     "metadata": {},
     "output_type": "execute_result"
    }
   ],
   "source": [
    "# Create empty columns for fitted values of changes i.e. changes of log exchange rates\n",
    "japan_const['s_change_fitted'] = np.nan\n",
    "\n",
    "# Out-of-sample Forecasts with rolling window : Here, we use the first 120 observations\n",
    "for i in range(120,len(japan_const)):\n",
    "    tmp = smf.ols(formula = 's_change ~ 1', data=japan_const[i-120:i]).fit()\n",
    "    japan_const.loc[i,'s_change_fitted'] = tmp.predict(japan_const[['inf_diff', 'gap_diff']][i:i+1])[i]\n",
    "\n",
    "# Forecasts\n",
    "japan_const['s_forecast'] = japan_const['s_change_fitted'] + japan_const['s_current']\n",
    "\n",
    "# Forecast Error\n",
    "japan_const['error'] = japan_const['s_future']-japan_const['s_forecast']\n",
    "\n",
    "\n",
    "japan_const.tail(10)"
   ]
  },
  {
   "cell_type": "code",
   "execution_count": 339,
   "metadata": {},
   "outputs": [
    {
     "name": "stderr",
     "output_type": "stream",
     "text": [
      "/var/folders/8m/fffj5k3d19917rjhf2d4vhj00000gn/T/ipykernel_57831/1569683012.py:2: SettingWithCopyWarning: \n",
      "A value is trying to be set on a copy of a slice from a DataFrame.\n",
      "Try using .loc[row_indexer,col_indexer] = value instead\n",
      "\n",
      "See the caveats in the documentation: https://pandas.pydata.org/pandas-docs/stable/user_guide/indexing.html#returning-a-view-versus-a-copy\n",
      "  jp3['signal'] = np.where(jp3['s_change_fitted'] >= 0, 1, -1)\n",
      "/var/folders/8m/fffj5k3d19917rjhf2d4vhj00000gn/T/ipykernel_57831/1569683012.py:3: SettingWithCopyWarning: \n",
      "A value is trying to be set on a copy of a slice from a DataFrame.\n",
      "Try using .loc[row_indexer,col_indexer] = value instead\n",
      "\n",
      "See the caveats in the documentation: https://pandas.pydata.org/pandas-docs/stable/user_guide/indexing.html#returning-a-view-versus-a-copy\n",
      "  jp3['strategy_return'] = (np.exp((jp3['signal']*s_change).cumsum())-1)*100\n",
      "/var/folders/8m/fffj5k3d19917rjhf2d4vhj00000gn/T/ipykernel_57831/1569683012.py:4: SettingWithCopyWarning: \n",
      "A value is trying to be set on a copy of a slice from a DataFrame.\n",
      "Try using .loc[row_indexer,col_indexer] = value instead\n",
      "\n",
      "See the caveats in the documentation: https://pandas.pydata.org/pandas-docs/stable/user_guide/indexing.html#returning-a-view-versus-a-copy\n",
      "  jp3['returns'] = np.exp(jp3['signal']*s_change)\n"
     ]
    }
   ],
   "source": [
    "jp3 = japan_const.dropna()\n",
    "jp3['signal'] = np.where(jp3['s_change_fitted'] >= 0, 1, -1)\n",
    "jp3['strategy_return'] = (np.exp((jp3['signal']*s_change).cumsum())-1)*100\n",
    "jp3['returns'] = np.exp(jp3['signal']*s_change)"
   ]
  },
  {
   "cell_type": "code",
   "execution_count": 340,
   "metadata": {
    "scrolled": false
   },
   "outputs": [
    {
     "data": {
      "image/png": "[encoded data removed]",
      "text/plain": [
       "<Figure size 1000x500 with 1 Axes>"
      ]
     },
     "metadata": {},
     "output_type": "display_data"
    }
   ],
   "source": [
    "jp3c = jp3.copy()\n",
    "jp3c.index = pd.to_datetime(jp3.date)\n",
    "plt.figure(figsize = (10, 5))\n",
    "plt.plot(jp3c['strategy_return'])\n",
    "plt.ylabel(\"Cumulative Returns (%)\")\n",
    "plt.title(\"Molodstova and Papell Simple Taylor Rule (April 1984 - August 2022)\")\n",
    "\n",
    "plt.legend([\"Equity Line\"])\n",
    "plt.grid()"
   ]
  },
  {
   "cell_type": "code",
   "execution_count": 341,
   "metadata": {},
   "outputs": [
    {
     "data": {
      "text/html": [
       "<div>\n",
       "<style scoped>\n",
       "    .dataframe tbody tr th:only-of-type {\n",
       "        vertical-align: middle;\n",
       "    }\n",
       "\n",
       "    .dataframe tbody tr th {\n",
       "        vertical-align: top;\n",
       "    }\n",
       "\n",
       "    .dataframe thead th {\n",
       "        text-align: right;\n",
       "    }\n",
       "</style>\n",
       "<table border=\"1\" class=\"dataframe\">\n",
       "  <thead>\n",
       "    <tr style=\"text-align: right;\">\n",
       "      <th></th>\n",
       "      <th>date</th>\n",
       "      <th>s_future</th>\n",
       "      <th>s_current</th>\n",
       "      <th>s_change</th>\n",
       "      <th>inf_diff</th>\n",
       "      <th>gap_diff</th>\n",
       "      <th>s_change_fitted</th>\n",
       "      <th>s_forecast</th>\n",
       "      <th>error</th>\n",
       "    </tr>\n",
       "  </thead>\n",
       "  <tbody>\n",
       "    <tr>\n",
       "      <th>586</th>\n",
       "      <td>2022-02-01</td>\n",
       "      <td>4.749703</td>\n",
       "      <td>4.748664</td>\n",
       "      <td>0.001039</td>\n",
       "      <td>6.978870</td>\n",
       "      <td>0.097970</td>\n",
       "      <td>0.004599</td>\n",
       "      <td>4.753263</td>\n",
       "      <td>-0.003560</td>\n",
       "    </tr>\n",
       "    <tr>\n",
       "      <th>587</th>\n",
       "      <td>2022-03-01</td>\n",
       "      <td>4.807294</td>\n",
       "      <td>4.749703</td>\n",
       "      <td>0.057591</td>\n",
       "      <td>6.969260</td>\n",
       "      <td>0.084894</td>\n",
       "      <td>0.002027</td>\n",
       "      <td>4.751731</td>\n",
       "      <td>0.055564</td>\n",
       "    </tr>\n",
       "    <tr>\n",
       "      <th>588</th>\n",
       "      <td>2022-04-01</td>\n",
       "      <td>4.866765</td>\n",
       "      <td>4.807294</td>\n",
       "      <td>0.059471</td>\n",
       "      <td>7.341254</td>\n",
       "      <td>0.093534</td>\n",
       "      <td>0.006495</td>\n",
       "      <td>4.813790</td>\n",
       "      <td>0.052975</td>\n",
       "    </tr>\n",
       "    <tr>\n",
       "      <th>589</th>\n",
       "      <td>2022-05-01</td>\n",
       "      <td>4.853592</td>\n",
       "      <td>4.866765</td>\n",
       "      <td>-0.013173</td>\n",
       "      <td>5.836833</td>\n",
       "      <td>0.109987</td>\n",
       "      <td>0.010460</td>\n",
       "      <td>4.877225</td>\n",
       "      <td>-0.023633</td>\n",
       "    </tr>\n",
       "    <tr>\n",
       "      <th>590</th>\n",
       "      <td>2022-06-01</td>\n",
       "      <td>4.917277</td>\n",
       "      <td>4.853592</td>\n",
       "      <td>0.063685</td>\n",
       "      <td>6.167025</td>\n",
       "      <td>0.166151</td>\n",
       "      <td>0.012924</td>\n",
       "      <td>4.866515</td>\n",
       "      <td>0.050761</td>\n",
       "    </tr>\n",
       "    <tr>\n",
       "      <th>591</th>\n",
       "      <td>2022-07-01</td>\n",
       "      <td>4.890349</td>\n",
       "      <td>4.917277</td>\n",
       "      <td>-0.026927</td>\n",
       "      <td>6.748200</td>\n",
       "      <td>0.097578</td>\n",
       "      <td>0.012540</td>\n",
       "      <td>4.929817</td>\n",
       "      <td>-0.039468</td>\n",
       "    </tr>\n",
       "    <tr>\n",
       "      <th>592</th>\n",
       "      <td>2022-08-01</td>\n",
       "      <td>4.931664</td>\n",
       "      <td>4.890349</td>\n",
       "      <td>0.041315</td>\n",
       "      <td>5.916991</td>\n",
       "      <td>0.095469</td>\n",
       "      <td>0.009838</td>\n",
       "      <td>4.900187</td>\n",
       "      <td>0.031477</td>\n",
       "    </tr>\n",
       "    <tr>\n",
       "      <th>593</th>\n",
       "      <td>2022-09-01</td>\n",
       "      <td>4.974939</td>\n",
       "      <td>4.931664</td>\n",
       "      <td>0.043275</td>\n",
       "      <td>5.253665</td>\n",
       "      <td>0.075794</td>\n",
       "      <td>0.009429</td>\n",
       "      <td>4.941093</td>\n",
       "      <td>0.033846</td>\n",
       "    </tr>\n",
       "    <tr>\n",
       "      <th>594</th>\n",
       "      <td>2022-10-01</td>\n",
       "      <td>4.998833</td>\n",
       "      <td>4.974939</td>\n",
       "      <td>0.023894</td>\n",
       "      <td>5.204667</td>\n",
       "      <td>NaN</td>\n",
       "      <td>NaN</td>\n",
       "      <td>NaN</td>\n",
       "      <td>NaN</td>\n",
       "    </tr>\n",
       "    <tr>\n",
       "      <th>595</th>\n",
       "      <td>2022-11-01</td>\n",
       "      <td>4.933034</td>\n",
       "      <td>4.998833</td>\n",
       "      <td>-0.065799</td>\n",
       "      <td>3.941624</td>\n",
       "      <td>NaN</td>\n",
       "      <td>NaN</td>\n",
       "      <td>NaN</td>\n",
       "      <td>NaN</td>\n",
       "    </tr>\n",
       "  </tbody>\n",
       "</table>\n",
       "</div>"
      ],
      "text/plain": [
       "          date  s_future  s_current  s_change  inf_diff  gap_diff  \\\n",
       "586 2022-02-01  4.749703   4.748664  0.001039  6.978870  0.097970   \n",
       "587 2022-03-01  4.807294   4.749703  0.057591  6.969260  0.084894   \n",
       "588 2022-04-01  4.866765   4.807294  0.059471  7.341254  0.093534   \n",
       "589 2022-05-01  4.853592   4.866765 -0.013173  5.836833  0.109987   \n",
       "590 2022-06-01  4.917277   4.853592  0.063685  6.167025  0.166151   \n",
       "591 2022-07-01  4.890349   4.917277 -0.026927  6.748200  0.097578   \n",
       "592 2022-08-01  4.931664   4.890349  0.041315  5.916991  0.095469   \n",
       "593 2022-09-01  4.974939   4.931664  0.043275  5.253665  0.075794   \n",
       "594 2022-10-01  4.998833   4.974939  0.023894  5.204667       NaN   \n",
       "595 2022-11-01  4.933034   4.998833 -0.065799  3.941624       NaN   \n",
       "\n",
       "     s_change_fitted  s_forecast     error  \n",
       "586         0.004599    4.753263 -0.003560  \n",
       "587         0.002027    4.751731  0.055564  \n",
       "588         0.006495    4.813790  0.052975  \n",
       "589         0.010460    4.877225 -0.023633  \n",
       "590         0.012924    4.866515  0.050761  \n",
       "591         0.012540    4.929817 -0.039468  \n",
       "592         0.009838    4.900187  0.031477  \n",
       "593         0.009429    4.941093  0.033846  \n",
       "594              NaN         NaN       NaN  \n",
       "595              NaN         NaN       NaN  "
      ]
     },
     "execution_count": 341,
     "metadata": {},
     "output_type": "execute_result"
    }
   ],
   "source": [
    "# Create empty columns for fitted values of changes i.e. changes of log exchange rates\n",
    "japan_const['s_change_fitted'] = np.nan\n",
    "\n",
    "# Out-of-sample Forecasts with rolling window : Here, we use the first 120 observations\n",
    "for i in range(120,len(japan_const)):\n",
    "    tmp = smf.ols(formula = 's_change ~ inf_diff + gap_diff-1', data=japan_const[i-120:i]).fit()\n",
    "    japan_const.loc[i,'s_change_fitted'] = tmp.predict(japan_const[['inf_diff', 'gap_diff']])[i]\n",
    "\n",
    "# Forecasts\n",
    "japan_const['s_forecast'] = japan_const['s_change_fitted'] + japan_const['s_current']\n",
    "\n",
    "# Forecast Error\n",
    "japan_const['error'] = japan_const['s_future']-japan_const['s_forecast']\n",
    "\n",
    "\n",
    "japan_const.tail(10)"
   ]
  },
  {
   "cell_type": "code",
   "execution_count": 342,
   "metadata": {},
   "outputs": [
    {
     "name": "stderr",
     "output_type": "stream",
     "text": [
      "/var/folders/8m/fffj5k3d19917rjhf2d4vhj00000gn/T/ipykernel_57831/3005501239.py:2: SettingWithCopyWarning: \n",
      "A value is trying to be set on a copy of a slice from a DataFrame.\n",
      "Try using .loc[row_indexer,col_indexer] = value instead\n",
      "\n",
      "See the caveats in the documentation: https://pandas.pydata.org/pandas-docs/stable/user_guide/indexing.html#returning-a-view-versus-a-copy\n",
      "  jp4['signal'] = np.where(jp4['s_change_fitted'] > 0, 1, -1)\n",
      "/var/folders/8m/fffj5k3d19917rjhf2d4vhj00000gn/T/ipykernel_57831/3005501239.py:3: SettingWithCopyWarning: \n",
      "A value is trying to be set on a copy of a slice from a DataFrame.\n",
      "Try using .loc[row_indexer,col_indexer] = value instead\n",
      "\n",
      "See the caveats in the documentation: https://pandas.pydata.org/pandas-docs/stable/user_guide/indexing.html#returning-a-view-versus-a-copy\n",
      "  jp4['strategy_return'] = (np.exp((jp4['signal']*s_change).cumsum())-1)*100\n",
      "/var/folders/8m/fffj5k3d19917rjhf2d4vhj00000gn/T/ipykernel_57831/3005501239.py:4: SettingWithCopyWarning: \n",
      "A value is trying to be set on a copy of a slice from a DataFrame.\n",
      "Try using .loc[row_indexer,col_indexer] = value instead\n",
      "\n",
      "See the caveats in the documentation: https://pandas.pydata.org/pandas-docs/stable/user_guide/indexing.html#returning-a-view-versus-a-copy\n",
      "  jp4['returns'] = np.exp(jp4['signal']*s_change)\n"
     ]
    }
   ],
   "source": [
    "jp4 = japan_const.dropna()\n",
    "jp4['signal'] = np.where(jp4['s_change_fitted'] > 0, 1, -1)\n",
    "jp4['strategy_return'] = (np.exp((jp4['signal']*s_change).cumsum())-1)*100\n",
    "jp4['returns'] = np.exp(jp4['signal']*s_change)"
   ]
  },
  {
   "cell_type": "code",
   "execution_count": 343,
   "metadata": {
    "scrolled": false
   },
   "outputs": [
    {
     "data": {
      "image/png": "[encoded data removed]",
      "text/plain": [
       "<Figure size 1000x500 with 1 Axes>"
      ]
     },
     "metadata": {},
     "output_type": "display_data"
    }
   ],
   "source": [
    "jp4c = jp4.copy()\n",
    "jp4c.index = pd.to_datetime(jp4.date)\n",
    "\n",
    "plt.figure(figsize = (10, 5))\n",
    "plt.plot(jp4c['strategy_return'])\n",
    "plt.ylabel(\"Cumulative Returns (%)\")\n",
    "plt.title(\"Molodstova and Papell Simple Taylor Rule (April 1984 - June 2006)\")\n",
    "\n",
    "plt.legend([\"Equity Line\"])\n",
    "plt.grid()"
   ]
  },
  {
   "cell_type": "markdown",
   "metadata": {},
   "source": [
    "### 2. DMW and CW Tests"
   ]
  },
  {
   "cell_type": "code",
   "execution_count": 346,
   "metadata": {},
   "outputs": [
    {
     "data": {
      "text/html": [
       "<div>\n",
       "<style scoped>\n",
       "    .dataframe tbody tr th:only-of-type {\n",
       "        vertical-align: middle;\n",
       "    }\n",
       "\n",
       "    .dataframe tbody tr th {\n",
       "        vertical-align: top;\n",
       "    }\n",
       "\n",
       "    .dataframe thead th {\n",
       "        text-align: right;\n",
       "    }\n",
       "</style>\n",
       "<table border=\"1\" class=\"dataframe\">\n",
       "  <thead>\n",
       "    <tr style=\"text-align: right;\">\n",
       "      <th></th>\n",
       "      <th>date</th>\n",
       "      <th>s_future</th>\n",
       "      <th>s_current</th>\n",
       "      <th>s_change</th>\n",
       "      <th>inf_diff</th>\n",
       "      <th>gap_diff</th>\n",
       "      <th>s_change_fitted</th>\n",
       "      <th>s_forecast</th>\n",
       "      <th>error</th>\n",
       "    </tr>\n",
       "  </thead>\n",
       "  <tbody>\n",
       "    <tr>\n",
       "      <th>0</th>\n",
       "      <td>1973-04-01</td>\n",
       "      <td>5.581615</td>\n",
       "      <td>5.582857</td>\n",
       "      <td>-0.001242</td>\n",
       "      <td>-4.081148</td>\n",
       "      <td>-0.054921</td>\n",
       "      <td>NaN</td>\n",
       "      <td>NaN</td>\n",
       "      <td>NaN</td>\n",
       "    </tr>\n",
       "    <tr>\n",
       "      <th>1</th>\n",
       "      <td>1973-05-01</td>\n",
       "      <td>5.579541</td>\n",
       "      <td>5.581615</td>\n",
       "      <td>-0.002074</td>\n",
       "      <td>-4.082616</td>\n",
       "      <td>-0.045133</td>\n",
       "      <td>NaN</td>\n",
       "      <td>NaN</td>\n",
       "      <td>NaN</td>\n",
       "    </tr>\n",
       "    <tr>\n",
       "      <th>2</th>\n",
       "      <td>1973-06-01</td>\n",
       "      <td>5.580861</td>\n",
       "      <td>5.579541</td>\n",
       "      <td>0.001320</td>\n",
       "      <td>-5.297365</td>\n",
       "      <td>-0.039740</td>\n",
       "      <td>NaN</td>\n",
       "      <td>NaN</td>\n",
       "      <td>NaN</td>\n",
       "    </tr>\n",
       "    <tr>\n",
       "      <th>3</th>\n",
       "      <td>1973-07-01</td>\n",
       "      <td>5.573864</td>\n",
       "      <td>5.580861</td>\n",
       "      <td>-0.006998</td>\n",
       "      <td>-4.800251</td>\n",
       "      <td>-0.040510</td>\n",
       "      <td>NaN</td>\n",
       "      <td>NaN</td>\n",
       "      <td>NaN</td>\n",
       "    </tr>\n",
       "    <tr>\n",
       "      <th>4</th>\n",
       "      <td>1973-08-01</td>\n",
       "      <td>5.580861</td>\n",
       "      <td>5.573864</td>\n",
       "      <td>0.006998</td>\n",
       "      <td>-5.919804</td>\n",
       "      <td>-0.019725</td>\n",
       "      <td>NaN</td>\n",
       "      <td>NaN</td>\n",
       "      <td>NaN</td>\n",
       "    </tr>\n",
       "    <tr>\n",
       "      <th>...</th>\n",
       "      <td>...</td>\n",
       "      <td>...</td>\n",
       "      <td>...</td>\n",
       "      <td>...</td>\n",
       "      <td>...</td>\n",
       "      <td>...</td>\n",
       "      <td>...</td>\n",
       "      <td>...</td>\n",
       "      <td>...</td>\n",
       "    </tr>\n",
       "    <tr>\n",
       "      <th>591</th>\n",
       "      <td>2022-07-01</td>\n",
       "      <td>4.890349</td>\n",
       "      <td>4.917277</td>\n",
       "      <td>-0.026927</td>\n",
       "      <td>6.748200</td>\n",
       "      <td>0.097578</td>\n",
       "      <td>0.012540</td>\n",
       "      <td>4.929817</td>\n",
       "      <td>-0.039468</td>\n",
       "    </tr>\n",
       "    <tr>\n",
       "      <th>592</th>\n",
       "      <td>2022-08-01</td>\n",
       "      <td>4.931664</td>\n",
       "      <td>4.890349</td>\n",
       "      <td>0.041315</td>\n",
       "      <td>5.916991</td>\n",
       "      <td>0.095469</td>\n",
       "      <td>0.009838</td>\n",
       "      <td>4.900187</td>\n",
       "      <td>0.031477</td>\n",
       "    </tr>\n",
       "    <tr>\n",
       "      <th>593</th>\n",
       "      <td>2022-09-01</td>\n",
       "      <td>4.974939</td>\n",
       "      <td>4.931664</td>\n",
       "      <td>0.043275</td>\n",
       "      <td>5.253665</td>\n",
       "      <td>0.075794</td>\n",
       "      <td>0.009429</td>\n",
       "      <td>4.941093</td>\n",
       "      <td>0.033846</td>\n",
       "    </tr>\n",
       "    <tr>\n",
       "      <th>594</th>\n",
       "      <td>2022-10-01</td>\n",
       "      <td>4.998833</td>\n",
       "      <td>4.974939</td>\n",
       "      <td>0.023894</td>\n",
       "      <td>5.204667</td>\n",
       "      <td>NaN</td>\n",
       "      <td>NaN</td>\n",
       "      <td>NaN</td>\n",
       "      <td>NaN</td>\n",
       "    </tr>\n",
       "    <tr>\n",
       "      <th>595</th>\n",
       "      <td>2022-11-01</td>\n",
       "      <td>4.933034</td>\n",
       "      <td>4.998833</td>\n",
       "      <td>-0.065799</td>\n",
       "      <td>3.941624</td>\n",
       "      <td>NaN</td>\n",
       "      <td>NaN</td>\n",
       "      <td>NaN</td>\n",
       "      <td>NaN</td>\n",
       "    </tr>\n",
       "  </tbody>\n",
       "</table>\n",
       "<p>596 rows × 9 columns</p>\n",
       "</div>"
      ],
      "text/plain": [
       "          date  s_future  s_current  s_change  inf_diff  gap_diff  \\\n",
       "0   1973-04-01  5.581615   5.582857 -0.001242 -4.081148 -0.054921   \n",
       "1   1973-05-01  5.579541   5.581615 -0.002074 -4.082616 -0.045133   \n",
       "2   1973-06-01  5.580861   5.579541  0.001320 -5.297365 -0.039740   \n",
       "3   1973-07-01  5.573864   5.580861 -0.006998 -4.800251 -0.040510   \n",
       "4   1973-08-01  5.580861   5.573864  0.006998 -5.919804 -0.019725   \n",
       "..         ...       ...        ...       ...       ...       ...   \n",
       "591 2022-07-01  4.890349   4.917277 -0.026927  6.748200  0.097578   \n",
       "592 2022-08-01  4.931664   4.890349  0.041315  5.916991  0.095469   \n",
       "593 2022-09-01  4.974939   4.931664  0.043275  5.253665  0.075794   \n",
       "594 2022-10-01  4.998833   4.974939  0.023894  5.204667       NaN   \n",
       "595 2022-11-01  4.933034   4.998833 -0.065799  3.941624       NaN   \n",
       "\n",
       "     s_change_fitted  s_forecast     error  \n",
       "0                NaN         NaN       NaN  \n",
       "1                NaN         NaN       NaN  \n",
       "2                NaN         NaN       NaN  \n",
       "3                NaN         NaN       NaN  \n",
       "4                NaN         NaN       NaN  \n",
       "..               ...         ...       ...  \n",
       "591         0.012540    4.929817 -0.039468  \n",
       "592         0.009838    4.900187  0.031477  \n",
       "593         0.009429    4.941093  0.033846  \n",
       "594              NaN         NaN       NaN  \n",
       "595              NaN         NaN       NaN  \n",
       "\n",
       "[596 rows x 9 columns]"
      ]
     },
     "execution_count": 346,
     "metadata": {},
     "output_type": "execute_result"
    }
   ],
   "source": [
    "japan_const"
   ]
  },
  {
   "cell_type": "code",
   "execution_count": 344,
   "metadata": {},
   "outputs": [
    {
     "data": {
      "text/plain": [
       "0.0008944804202039335"
      ]
     },
     "execution_count": 344,
     "metadata": {},
     "output_type": "execute_result"
    }
   ],
   "source": [
    "### Mean squared errors\n",
    "## Taylor Rule Model\n",
    "P = len(japan_const['error'][120:])\n",
    "MSE_T = np.sum(np.square(japan_const['error'])[120:])/P\n",
    "MSE_T"
   ]
  },
  {
   "cell_type": "code",
   "execution_count": 345,
   "metadata": {},
   "outputs": [
    {
     "data": {
      "text/plain": [
       "0.000886835515223631"
      ]
     },
     "execution_count": 345,
     "metadata": {},
     "output_type": "execute_result"
    }
   ],
   "source": [
    "## Random Walk\n",
    "MSE_R = np.sum(np.square(japan_const['s_change'])[120:])/P\n",
    "MSE_R"
   ]
  },
  {
   "cell_type": "markdown",
   "metadata": {},
   "source": [
    "### (a) DMW Test"
   ]
  },
  {
   "cell_type": "code",
   "execution_count": 235,
   "metadata": {},
   "outputs": [
    {
     "name": "stdout",
     "output_type": "stream",
     "text": [
      "Since the DMW statitsic is equal to -0.21753162213359256, which is less than the critical value (1.64),\n",
      "we fail to reject the null hypothesis that the MP model does not outperform the random walk model.\n"
     ]
    }
   ],
   "source": [
    "### DMW statistic\n",
    "## V_hat\n",
    "error_R = japan_const['s_change'][120:].reset_index(drop=True)\n",
    "error_T = japan_const['error'][120:].reset_index(drop=True)\n",
    "tmp = np.square(error_R) - np.square(error_T) - (MSE_R - MSE_T)\n",
    "V_hat = np.sum(np.square(tmp))/P\n",
    "\n",
    "## Statistic\n",
    "DMW = (MSE_R - MSE_T)/np.sqrt(V_hat/P)\n",
    "\n",
    "print('Since the DMW statitsic is equal to ' + str(DMW) + ',' + ' which is less than the critical value (' + str(round(st.norm.ppf(.95),2)) + '),')\n",
    "print('we fail to reject the null hypothesis that the MP model does not outperform the random walk model.')"
   ]
  },
  {
   "cell_type": "markdown",
   "metadata": {},
   "source": [
    "### (b) CW Test"
   ]
  },
  {
   "cell_type": "code",
   "execution_count": 237,
   "metadata": {},
   "outputs": [
    {
     "name": "stdout",
     "output_type": "stream",
     "text": [
      "Since the CW statitsic is equal to 2.315623860533413, which is greater than the critical value (1.64),\n",
      "we reject the null hypothesis that the MP model does not outperform the random walk model.\n"
     ]
    }
   ],
   "source": [
    "### CW statistic\n",
    "tmp2 = np.sum(np.square(japan_const['s_change_fitted'][120:]))/P\n",
    "CW = (MSE_R - MSE_T + tmp2)/np.sqrt(V_hat/P)\n",
    "\n",
    "print('Since the CW statitsic is equal to ' + str(CW) + ',' + ' which is greater than the critical value (' + str(round(st.norm.ppf(.95),2)) + '),')\n",
    "print('we reject the null hypothesis that the MP model does not outperform the random walk model.')"
   ]
  },
  {
   "cell_type": "markdown",
   "metadata": {},
   "source": [
    "## Returns and Sharpe Ratios"
   ]
  },
  {
   "cell_type": "markdown",
   "metadata": {},
   "source": [
    "### CCROR"
   ]
  },
  {
   "cell_type": "code",
   "execution_count": 238,
   "metadata": {},
   "outputs": [],
   "source": [
    "P = 1000000"
   ]
  },
  {
   "cell_type": "code",
   "execution_count": 239,
   "metadata": {},
   "outputs": [
    {
     "data": {
      "text/plain": [
       "2.665716233082375"
      ]
     },
     "execution_count": 239,
     "metadata": {},
     "output_type": "execute_result"
    }
   ],
   "source": [
    "t = len(jp2)/12\n",
    "A = (jp2[\"strategy_return\"].iloc[-1]/100+1)*P\n",
    "(np.log(A/P)/t)*100"
   ]
  },
  {
   "cell_type": "code",
   "execution_count": 240,
   "metadata": {},
   "outputs": [
    {
     "data": {
      "text/plain": [
       "1.723128101774134"
      ]
     },
     "execution_count": 240,
     "metadata": {},
     "output_type": "execute_result"
    }
   ],
   "source": [
    "t = len(jp3)/12\n",
    "A = (jp3[\"strategy_return\"].iloc[-1]/100+1)*P\n",
    "(np.log(A/P)/t)*100"
   ]
  },
  {
   "cell_type": "code",
   "execution_count": 241,
   "metadata": {},
   "outputs": [
    {
     "data": {
      "text/plain": [
       "-2.3101291117134974"
      ]
     },
     "execution_count": 241,
     "metadata": {},
     "output_type": "execute_result"
    }
   ],
   "source": [
    "t = len(jp4)/12\n",
    "A = (jp4[\"strategy_return\"].iloc[-1]/100+1)*P\n",
    "(np.log(A/P)/t)*100"
   ]
  },
  {
   "cell_type": "markdown",
   "metadata": {},
   "source": [
    "## Annualized Returns"
   ]
  },
  {
   "cell_type": "code",
   "execution_count": 242,
   "metadata": {},
   "outputs": [],
   "source": [
    "t = len(jp2)/12\n",
    "A = (jp2[\"strategy_return\"].iloc[-1]/100+1)*P\n",
    "jp2_ar = (((A/P)**(1/t))-1)*100"
   ]
  },
  {
   "cell_type": "code",
   "execution_count": 243,
   "metadata": {},
   "outputs": [
    {
     "data": {
      "text/plain": [
       "2.7015642750911617"
      ]
     },
     "execution_count": 243,
     "metadata": {},
     "output_type": "execute_result"
    }
   ],
   "source": [
    "jp2_ar"
   ]
  },
  {
   "cell_type": "code",
   "execution_count": 244,
   "metadata": {},
   "outputs": [],
   "source": [
    "t = len(jp3)/12\n",
    "A = (jp3[\"strategy_return\"].iloc[-1]/100+1)*P\n",
    "jp3_ar = (((A/P)**(1/t))-1)*100"
   ]
  },
  {
   "cell_type": "code",
   "execution_count": 245,
   "metadata": {},
   "outputs": [
    {
     "data": {
      "text/plain": [
       "1.738059593669039"
      ]
     },
     "execution_count": 245,
     "metadata": {},
     "output_type": "execute_result"
    }
   ],
   "source": [
    "jp3_ar"
   ]
  },
  {
   "cell_type": "code",
   "execution_count": 246,
   "metadata": {},
   "outputs": [],
   "source": [
    "t = len(jp4)/12\n",
    "A = (jp4[\"strategy_return\"].iloc[-1]/100+1)*P\n",
    "jp4_ar = (((A/P)**(1/t))-1)*100"
   ]
  },
  {
   "cell_type": "code",
   "execution_count": 247,
   "metadata": {},
   "outputs": [
    {
     "data": {
      "text/plain": [
       "-2.2836499222304685"
      ]
     },
     "execution_count": 247,
     "metadata": {},
     "output_type": "execute_result"
    }
   ],
   "source": [
    "jp4_ar"
   ]
  },
  {
   "cell_type": "markdown",
   "metadata": {},
   "source": [
    "## Risk Free Returns"
   ]
  },
  {
   "cell_type": "code",
   "execution_count": 253,
   "metadata": {},
   "outputs": [],
   "source": [
    "rf_rate = pd.read_csv(\"1-year-treasury-rate-yield-chart.csv\", index_col = 0, parse_dates = True).dropna()"
   ]
  },
  {
   "cell_type": "code",
   "execution_count": 257,
   "metadata": {},
   "outputs": [],
   "source": [
    "drange = pd.date_range(start = \"04/1983\", end = \"10/2022\", freq = \"M\")\n",
    "jp2.index = drange\n",
    "jp3.index = drange\n",
    "jp4.index = drange"
   ]
  },
  {
   "cell_type": "markdown",
   "metadata": {},
   "source": [
    "## Sharpe Ratio"
   ]
  },
  {
   "cell_type": "code",
   "execution_count": 285,
   "metadata": {},
   "outputs": [],
   "source": [
    "rf_rate = ((rf_rate/100)+1)**(1/12)-1"
   ]
  },
  {
   "cell_type": "code",
   "execution_count": 286,
   "metadata": {},
   "outputs": [],
   "source": [
    "rf = pd.merge_asof(jp2, rf_rate, left_index = True, right_index = True, direction = 'forward')[' value']"
   ]
  },
  {
   "cell_type": "code",
   "execution_count": null,
   "metadata": {},
   "outputs": [],
   "source": [
    "ereturns2 = ((jp2['returns'].resample('M').prod()-1))-rf\n",
    "\n",
    "sd2 = ereturns2.std(ddof= 1)\n",
    "\n",
    "# mean of excess returns\n",
    "m2 = ereturns2.mean()"
   ]
  },
  {
   "cell_type": "code",
   "execution_count": 287,
   "metadata": {},
   "outputs": [],
   "source": [
    "ereturns2 = ((jp2['returns'].resample('M').prod()-1))-rf\n",
    "ereturns3 = ((jp3['returns'].resample('M').prod()-1))-rf\n",
    "ereturns4 = ((jp4['returns'].resample('M').prod()-1))-rf\n",
    "\n",
    "sd2 = ereturns2.std(ddof= 1)\n",
    "sd3 = ereturns3.std(ddof= 1)\n",
    "sd4 = ereturns4.std(ddof= 1)\n",
    "\n",
    "m2 = ereturns2.mean()\n",
    "m3 = ereturns3.mean()\n",
    "m4 = ereturns4.mean()\n"
   ]
  },
  {
   "cell_type": "code",
   "execution_count": 295,
   "metadata": {},
   "outputs": [
    {
     "data": {
      "text/plain": [
       "0.08977836749466084"
      ]
     },
     "execution_count": 295,
     "metadata": {},
     "output_type": "execute_result"
    }
   ],
   "source": [
    "m2/sd2"
   ]
  },
  {
   "cell_type": "code",
   "execution_count": 296,
   "metadata": {},
   "outputs": [
    {
     "data": {
      "text/plain": [
       "0.06321692098707739"
      ]
     },
     "execution_count": 296,
     "metadata": {},
     "output_type": "execute_result"
    }
   ],
   "source": [
    "m3/sd3"
   ]
  },
  {
   "cell_type": "code",
   "execution_count": 297,
   "metadata": {},
   "outputs": [
    {
     "data": {
      "text/plain": [
       "-0.05061942304733014"
      ]
     },
     "execution_count": 297,
     "metadata": {},
     "output_type": "execute_result"
    }
   ],
   "source": [
    "m4/sd4"
   ]
  },
  {
   "cell_type": "code",
   "execution_count": 298,
   "metadata": {},
   "outputs": [
    {
     "data": {
      "text/plain": [
       " value    0.00395\n",
       "dtype: float64"
      ]
     },
     "execution_count": 298,
     "metadata": {},
     "output_type": "execute_result"
    }
   ],
   "source": [
    "(np.exp((np.log(rf_rate+1)*12).mean())-1)*100"
   ]
  },
  {
   "cell_type": "code",
   "execution_count": 304,
   "metadata": {},
   "outputs": [
    {
     "data": {
      "text/plain": [
       "0.3068260568265757"
      ]
     },
     "execution_count": 304,
     "metadata": {},
     "output_type": "execute_result"
    }
   ],
   "source": [
    "(np.exp(m2)-1)/(np.exp(sd2)-1)*np.sqrt(12)"
   ]
  },
  {
   "cell_type": "code",
   "execution_count": 305,
   "metadata": {},
   "outputs": [
    {
     "data": {
      "text/plain": [
       "0.029619419383125352"
      ]
     },
     "execution_count": 305,
     "metadata": {},
     "output_type": "execute_result"
    }
   ],
   "source": [
    "np.expsd2"
   ]
  },
  {
   "cell_type": "code",
   "execution_count": 310,
   "metadata": {},
   "outputs": [
    {
     "data": {
      "text/plain": [
       "0.07389731833542866"
      ]
     },
     "execution_count": 310,
     "metadata": {},
     "output_type": "execute_result"
    }
   ],
   "source": [
    "(np.exp(np.log(ereturns2+1).mean())-1)/(np.exp(np.log(ereturns2+1).std())-1)"
   ]
  },
  {
   "cell_type": "code",
   "execution_count": null,
   "metadata": {},
   "outputs": [],
   "source": []
  }
 ],
 "metadata": {
  "kernelspec": {
   "display_name": "Python 3 (ipykernel)",
   "language": "python",
   "name": "python3"
  },
  "language_info": {
   "codemirror_mode": {
    "name": "ipython",
    "version": 3
   },
   "file_extension": ".py",
   "mimetype": "text/x-python",
   "name": "python",
   "nbconvert_exporter": "python",
   "pygments_lexer": "ipython3",
   "version": "3.9.18"
  }
 },
 "nbformat": 4,
 "nbformat_minor": 4
}
