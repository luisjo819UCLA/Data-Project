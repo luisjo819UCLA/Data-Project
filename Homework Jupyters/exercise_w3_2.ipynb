{
 "cells": [
  {
   "cell_type": "code",
   "execution_count": 16,
   "id": "49d2937d",
   "metadata": {},
   "outputs": [],
   "source": [
    "import pandas as pd\n",
    "import numpy as np\n",
    "import matplotlib.pyplot as plt\n",
    "import yfinance as yf\n",
    "import statsmodels.formula.api as smf"
   ]
  },
  {
   "cell_type": "code",
   "execution_count": 17,
   "id": "698f3cec",
   "metadata": {},
   "outputs": [],
   "source": [
    "data = pd.read_csv('exercise3_data.csv', parse_dates = True, index_col = 0)"
   ]
  },
  {
   "cell_type": "markdown",
   "id": "0f622025",
   "metadata": {},
   "source": [
    "### I have given you a set of data that has *already* estimated the output gap and inflation differential between Europe and the US. I have also given you the change in the exchange rate associated with those observations under s_change. \n",
    "\n",
    "### Your goal will be to use this data and OLS to produce out of sample forecasts of the change in exchange rates. You will Then compute the MSE of youre forecasts and compare them to the Random Walk."
   ]
  },
  {
   "cell_type": "code",
   "execution_count": 18,
   "id": "953df52c",
   "metadata": {},
   "outputs": [
    {
     "data": {
      "text/html": [
       "<div>\n",
       "<style scoped>\n",
       "    .dataframe tbody tr th:only-of-type {\n",
       "        vertical-align: middle;\n",
       "    }\n",
       "\n",
       "    .dataframe tbody tr th {\n",
       "        vertical-align: top;\n",
       "    }\n",
       "\n",
       "    .dataframe thead th {\n",
       "        text-align: right;\n",
       "    }\n",
       "</style>\n",
       "<table border=\"1\" class=\"dataframe\">\n",
       "  <thead>\n",
       "    <tr style=\"text-align: right;\">\n",
       "      <th></th>\n",
       "      <th>gap_diff</th>\n",
       "      <th>inf_diff</th>\n",
       "      <th>s_change</th>\n",
       "    </tr>\n",
       "  </thead>\n",
       "  <tbody>\n",
       "    <tr>\n",
       "      <th>2003-12-16</th>\n",
       "      <td>-1.466332</td>\n",
       "      <td>-0.036955</td>\n",
       "      <td>-0.029570</td>\n",
       "    </tr>\n",
       "    <tr>\n",
       "      <th>2003-12-18</th>\n",
       "      <td>-0.813845</td>\n",
       "      <td>-0.036955</td>\n",
       "      <td>-0.008251</td>\n",
       "    </tr>\n",
       "    <tr>\n",
       "      <th>2003-12-26</th>\n",
       "      <td>-0.807195</td>\n",
       "      <td>-0.264883</td>\n",
       "      <td>-0.000957</td>\n",
       "    </tr>\n",
       "    <tr>\n",
       "      <th>2004-01-16</th>\n",
       "      <td>-0.500673</td>\n",
       "      <td>-0.264883</td>\n",
       "      <td>0.003785</td>\n",
       "    </tr>\n",
       "    <tr>\n",
       "      <th>2004-01-17</th>\n",
       "      <td>-0.460464</td>\n",
       "      <td>-0.264883</td>\n",
       "      <td>0.002907</td>\n",
       "    </tr>\n",
       "  </tbody>\n",
       "</table>\n",
       "</div>"
      ],
      "text/plain": [
       "            gap_diff  inf_diff  s_change\n",
       "2003-12-16 -1.466332 -0.036955 -0.029570\n",
       "2003-12-18 -0.813845 -0.036955 -0.008251\n",
       "2003-12-26 -0.807195 -0.264883 -0.000957\n",
       "2004-01-16 -0.500673 -0.264883  0.003785\n",
       "2004-01-17 -0.460464 -0.264883  0.002907"
      ]
     },
     "execution_count": 18,
     "metadata": {},
     "output_type": "execute_result"
    }
   ],
   "source": [
    "data.head()"
   ]
  },
  {
   "cell_type": "markdown",
   "id": "518264ec",
   "metadata": {},
   "source": [
    "### 1.  Below I have given you a starting block of code for training your model on a rolling window and making an out of sample forecast one period ahead. \n",
    "\n",
    "### Complete the code below to generate a series of one-period ahead out-of-sample forecasts. You will Need to choose the right variable names to run the followig regression:\n",
    "$$s\\_change = \\beta_1 + \\beta_2 \\text{Output Gap}_t + \\beta_3 \\text{Inflation Gap}_t + e_t$$\n",
    "\n",
    "### Then set the appropriate training and forecasting window (for just the next observation)"
   ]
  },
  {
   "cell_type": "code",
   "execution_count": 23,
   "id": "9d8fb9bf",
   "metadata": {},
   "outputs": [],
   "source": [
    "data['forecast'] = 0.0\n",
    "for i in range(120, len(data)):\n",
    "    forecaster = smf.ols(formula = '____ ~ ___ + ____', data=data['Set Training window']).fit()\n",
    "    data.loc[data.index[i], 'forecast'] = forecaster.predict(data.iloc['Set one-period forecast window']).values"
   ]
  },
  {
   "cell_type": "code",
   "execution_count": 31,
   "id": "5b15e148",
   "metadata": {},
   "outputs": [],
   "source": [
    "# We are subsetting the datasset to the part that just conrtains our prediction\n",
    "test_data = data.iloc[120:].copy()"
   ]
  },
  {
   "cell_type": "markdown",
   "id": "e6587a7c",
   "metadata": {},
   "source": [
    "### Choose how the signals are generated. We should go long if we forecast the exchange rate will increase and short if we forecast it will decrease. "
   ]
  },
  {
   "cell_type": "code",
   "execution_count": 34,
   "id": "0d0d3779",
   "metadata": {
    "scrolled": true
   },
   "outputs": [],
   "source": [
    "# Select the correct signal values\n",
    "test_data['signal'] = np.where(test_data['forecast'] >= ___, ____, ____)\n",
    "\n",
    "# note that I have shifted the return (-1) before hand, so we don't need to .shift() the signals\n",
    "# The returns were shifted to be the appropriate label for the observations when we train our regression\n",
    "test_data['strategy_return'] = (np.exp((test_data['signal']*test_data['s_change']).cumsum())-1)*100"
   ]
  },
  {
   "cell_type": "code",
   "execution_count": null,
   "id": "8936928e",
   "metadata": {},
   "outputs": [],
   "source": [
    "test_data['strategy_return'].plot(figsize = (10,5))"
   ]
  },
  {
   "cell_type": "markdown",
   "id": "421ce93a",
   "metadata": {},
   "source": [
    "## Below is some code that computes the MSE of your exhcange rate forecasts"
   ]
  },
  {
   "cell_type": "code",
   "execution_count": 44,
   "id": "05030b43",
   "metadata": {
    "scrolled": false
   },
   "outputs": [
    {
     "data": {
      "text/plain": [
       "0.00029290371083852136"
      ]
     },
     "execution_count": 44,
     "metadata": {},
     "output_type": "execute_result"
    }
   ],
   "source": [
    "((test_data['s_change']-test_data['forecast'])**2).mean()"
   ]
  },
  {
   "cell_type": "markdown",
   "id": "03e1f07f",
   "metadata": {},
   "source": [
    "## Compute the mean squared error of the random walk forecast:\n",
    "\n",
    "$$\\text{MSE}_{rw} = \\frac{1}{N} \\sum_{t=1}^{N} s\\_\\text{change}_{t} - s\\_\\text{change}_{t-1})^2$$\n",
    "\n",
    "Hint: Any easy way to do this is to apply a .shift()"
   ]
  },
  {
   "cell_type": "code",
   "execution_count": 45,
   "id": "9e582ed9",
   "metadata": {},
   "outputs": [],
   "source": [
    "# Compute the MSE of the RW forecast"
   ]
  },
  {
   "cell_type": "code",
   "execution_count": null,
   "id": "45f985dc",
   "metadata": {},
   "outputs": [],
   "source": []
  }
 ],
 "metadata": {
  "kernelspec": {
   "display_name": "Python 3 (ipykernel)",
   "language": "python",
   "name": "python3"
  },
  "language_info": {
   "codemirror_mode": {
    "name": "ipython",
    "version": 3
   },
   "file_extension": ".py",
   "mimetype": "text/x-python",
   "name": "python",
   "nbconvert_exporter": "python",
   "pygments_lexer": "ipython3",
   "version": "3.9.18"
  }
 },
 "nbformat": 4,
 "nbformat_minor": 5
}
