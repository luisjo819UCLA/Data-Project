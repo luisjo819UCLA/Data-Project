{
 "cells": [
  {
   "cell_type": "code",
   "execution_count": 1,
   "id": "49d2937d",
   "metadata": {},
   "outputs": [],
   "source": [
    "import pandas as pd\n",
    "import numpy as np\n",
    "import matplotlib.pyplot as plt\n",
    "import yfinance as yf\n",
    "import statsmodels.formula.api as smf"
   ]
  },
  {
   "cell_type": "code",
   "execution_count": 2,
   "id": "698f3cec",
   "metadata": {},
   "outputs": [],
   "source": [
    "data = pd.read_csv('exercise3_data.csv', parse_dates = True, index_col = 0)"
   ]
  },
  {
   "cell_type": "markdown",
   "id": "0f622025",
   "metadata": {},
   "source": [
    "### I have given you a set of data that has *already* estimated the output gap and inflation differential between Europe and the US. I have also given you the change in the exchange rate associated with those observations under s_change. \n",
    "\n",
    "### Your goal will be to use this data and OLS to produce out of sample forecasts of the change in exchange rates. You will Then compute the MSE of youre forecasts and compare them to the Random Walk."
   ]
  },
  {
   "cell_type": "code",
   "execution_count": 8,
   "id": "953df52c",
   "metadata": {},
   "outputs": [
    {
     "data": {
      "text/html": [
       "<div>\n",
       "<style scoped>\n",
       "    .dataframe tbody tr th:only-of-type {\n",
       "        vertical-align: middle;\n",
       "    }\n",
       "\n",
       "    .dataframe tbody tr th {\n",
       "        vertical-align: top;\n",
       "    }\n",
       "\n",
       "    .dataframe thead th {\n",
       "        text-align: right;\n",
       "    }\n",
       "</style>\n",
       "<table border=\"1\" class=\"dataframe\">\n",
       "  <thead>\n",
       "    <tr style=\"text-align: right;\">\n",
       "      <th></th>\n",
       "      <th>gap_diff</th>\n",
       "      <th>inf_diff</th>\n",
       "      <th>s_change</th>\n",
       "      <th>forecast</th>\n",
       "    </tr>\n",
       "  </thead>\n",
       "  <tbody>\n",
       "    <tr>\n",
       "      <th>2023-11-16</th>\n",
       "      <td>1.564830</td>\n",
       "      <td>-0.620009</td>\n",
       "      <td>-0.027016</td>\n",
       "      <td>-0.000281</td>\n",
       "    </tr>\n",
       "    <tr>\n",
       "      <th>2023-11-17</th>\n",
       "      <td>0.643254</td>\n",
       "      <td>-0.620009</td>\n",
       "      <td>-0.004896</td>\n",
       "      <td>-0.000697</td>\n",
       "    </tr>\n",
       "    <tr>\n",
       "      <th>2023-11-25</th>\n",
       "      <td>0.636683</td>\n",
       "      <td>0.357036</td>\n",
       "      <td>-0.004701</td>\n",
       "      <td>0.000598</td>\n",
       "    </tr>\n",
       "    <tr>\n",
       "      <th>2023-12-16</th>\n",
       "      <td>1.330083</td>\n",
       "      <td>0.357036</td>\n",
       "      <td>0.003162</td>\n",
       "      <td>0.002482</td>\n",
       "    </tr>\n",
       "    <tr>\n",
       "      <th>2023-12-26</th>\n",
       "      <td>1.320142</td>\n",
       "      <td>0.748037</td>\n",
       "      <td>-0.010851</td>\n",
       "      <td>0.003268</td>\n",
       "    </tr>\n",
       "  </tbody>\n",
       "</table>\n",
       "</div>"
      ],
      "text/plain": [
       "            gap_diff  inf_diff  s_change  forecast\n",
       "2023-11-16  1.564830 -0.620009 -0.027016 -0.000281\n",
       "2023-11-17  0.643254 -0.620009 -0.004896 -0.000697\n",
       "2023-11-25  0.636683  0.357036 -0.004701  0.000598\n",
       "2023-12-16  1.330083  0.357036  0.003162  0.002482\n",
       "2023-12-26  1.320142  0.748037 -0.010851  0.003268"
      ]
     },
     "execution_count": 8,
     "metadata": {},
     "output_type": "execute_result"
    }
   ],
   "source": [
    "data.tail()"
   ]
  },
  {
   "cell_type": "markdown",
   "id": "518264ec",
   "metadata": {},
   "source": [
    "### 1.  Below I have given you a starting block of code for training your model on a rolling window and making an out of sample forecast one period ahead. \n",
    "\n",
    "### Complete the code below to generate a series of one-period ahead out-of-sample forecasts. You will Need to choose the right variable names to run the followig regression:\n",
    "$$s\\_change = \\beta_1 + \\beta_2 \\text{Output Gap}_t + \\beta_3 \\text{Inflation Gap}_t + e_t$$\n",
    "\n",
    "### Then set the appropriate training and forecasting window (for just the next observation)"
   ]
  },
  {
   "cell_type": "code",
   "execution_count": 3,
   "id": "9d8fb9bf",
   "metadata": {},
   "outputs": [],
   "source": [
    "data['forecast'] = 0.0\n",
    "for i in range(120, len(data)):\n",
    "    forecaster = smf.ols(formula = 's_change ~ inf_diff + gap_diff', data=data[i-120:i]).fit() #here we are using the data from the previous 120 days to predict the next day\n",
    "    data.loc[data.index[i], 'forecast'] = forecaster.predict(data.iloc[i:i+1]).values #here we are predicting the next day. We are using the iloc function to get the data from the next day\n",
    "    \n",
    "#All in all, we are doing a rolling regression, where we are using the data from the previous 120 days to predict the next day. We are then using the iloc function to get the data from the next day and predict it. We are then storing the predicted value in the forecast column."
   ]
  },
  {
   "cell_type": "code",
   "execution_count": 10,
   "id": "4802d84b",
   "metadata": {},
   "outputs": [
    {
     "data": {
      "text/html": [
       "<div>\n",
       "<style scoped>\n",
       "    .dataframe tbody tr th:only-of-type {\n",
       "        vertical-align: middle;\n",
       "    }\n",
       "\n",
       "    .dataframe tbody tr th {\n",
       "        vertical-align: top;\n",
       "    }\n",
       "\n",
       "    .dataframe thead th {\n",
       "        text-align: right;\n",
       "    }\n",
       "</style>\n",
       "<table border=\"1\" class=\"dataframe\">\n",
       "  <thead>\n",
       "    <tr style=\"text-align: right;\">\n",
       "      <th></th>\n",
       "      <th>gap_diff</th>\n",
       "      <th>inf_diff</th>\n",
       "      <th>s_change</th>\n",
       "      <th>forecast</th>\n",
       "    </tr>\n",
       "  </thead>\n",
       "  <tbody>\n",
       "    <tr>\n",
       "      <th>2007-01-16</th>\n",
       "      <td>-2.829613</td>\n",
       "      <td>0.081910</td>\n",
       "      <td>0.014904</td>\n",
       "      <td>0.000000</td>\n",
       "    </tr>\n",
       "    <tr>\n",
       "      <th>2007-01-17</th>\n",
       "      <td>-1.784869</td>\n",
       "      <td>0.081910</td>\n",
       "      <td>-0.001539</td>\n",
       "      <td>0.000000</td>\n",
       "    </tr>\n",
       "    <tr>\n",
       "      <th>2007-01-25</th>\n",
       "      <td>-1.766147</td>\n",
       "      <td>0.596858</td>\n",
       "      <td>0.000310</td>\n",
       "      <td>0.000000</td>\n",
       "    </tr>\n",
       "    <tr>\n",
       "      <th>2007-02-15</th>\n",
       "      <td>-3.347564</td>\n",
       "      <td>0.596858</td>\n",
       "      <td>-0.015119</td>\n",
       "      <td>0.000000</td>\n",
       "    </tr>\n",
       "    <tr>\n",
       "      <th>2007-02-17</th>\n",
       "      <td>-3.651477</td>\n",
       "      <td>0.596858</td>\n",
       "      <td>-0.001590</td>\n",
       "      <td>0.000000</td>\n",
       "    </tr>\n",
       "    <tr>\n",
       "      <th>2007-02-25</th>\n",
       "      <td>-3.597591</td>\n",
       "      <td>0.210444</td>\n",
       "      <td>-0.003188</td>\n",
       "      <td>0.000000</td>\n",
       "    </tr>\n",
       "    <tr>\n",
       "      <th>2007-03-18</th>\n",
       "      <td>-3.044587</td>\n",
       "      <td>0.210444</td>\n",
       "      <td>-0.008761</td>\n",
       "      <td>0.000000</td>\n",
       "    </tr>\n",
       "    <tr>\n",
       "      <th>2007-03-20</th>\n",
       "      <td>-2.039654</td>\n",
       "      <td>0.210444</td>\n",
       "      <td>-0.000146</td>\n",
       "      <td>0.000000</td>\n",
       "    </tr>\n",
       "    <tr>\n",
       "      <th>2007-03-28</th>\n",
       "      <td>-2.014959</td>\n",
       "      <td>0.548478</td>\n",
       "      <td>0.000000</td>\n",
       "      <td>0.000000</td>\n",
       "    </tr>\n",
       "    <tr>\n",
       "      <th>2007-04-17</th>\n",
       "      <td>-1.817355</td>\n",
       "      <td>0.548478</td>\n",
       "      <td>-0.019195</td>\n",
       "      <td>0.000000</td>\n",
       "    </tr>\n",
       "    <tr>\n",
       "      <th>2007-04-18</th>\n",
       "      <td>-2.396485</td>\n",
       "      <td>0.548478</td>\n",
       "      <td>-0.003235</td>\n",
       "      <td>-0.004918</td>\n",
       "    </tr>\n",
       "    <tr>\n",
       "      <th>2007-04-25</th>\n",
       "      <td>-2.365108</td>\n",
       "      <td>0.844255</td>\n",
       "      <td>-0.001581</td>\n",
       "      <td>-0.003583</td>\n",
       "    </tr>\n",
       "    <tr>\n",
       "      <th>2007-05-16</th>\n",
       "      <td>-2.934149</td>\n",
       "      <td>0.844255</td>\n",
       "      <td>0.008433</td>\n",
       "      <td>-0.004442</td>\n",
       "    </tr>\n",
       "    <tr>\n",
       "      <th>2007-05-18</th>\n",
       "      <td>-2.213818</td>\n",
       "      <td>0.844255</td>\n",
       "      <td>-0.000149</td>\n",
       "      <td>-0.002953</td>\n",
       "    </tr>\n",
       "    <tr>\n",
       "      <th>2007-05-26</th>\n",
       "      <td>-2.185352</td>\n",
       "      <td>0.663404</td>\n",
       "      <td>0.005490</td>\n",
       "      <td>-0.003389</td>\n",
       "    </tr>\n",
       "    <tr>\n",
       "      <th>2007-06-16</th>\n",
       "      <td>-0.757420</td>\n",
       "      <td>0.663404</td>\n",
       "      <td>0.002606</td>\n",
       "      <td>-0.001241</td>\n",
       "    </tr>\n",
       "    <tr>\n",
       "      <th>2007-06-17</th>\n",
       "      <td>-0.712430</td>\n",
       "      <td>0.663404</td>\n",
       "      <td>0.002606</td>\n",
       "      <td>-0.001038</td>\n",
       "    </tr>\n",
       "    <tr>\n",
       "      <th>2007-06-25</th>\n",
       "      <td>-0.710333</td>\n",
       "      <td>0.820267</td>\n",
       "      <td>-0.003723</td>\n",
       "      <td>-0.000414</td>\n",
       "    </tr>\n",
       "    <tr>\n",
       "      <th>2007-07-16</th>\n",
       "      <td>-2.608086</td>\n",
       "      <td>0.820267</td>\n",
       "      <td>-0.022910</td>\n",
       "      <td>-0.003161</td>\n",
       "    </tr>\n",
       "    <tr>\n",
       "      <th>2007-07-18</th>\n",
       "      <td>-2.554681</td>\n",
       "      <td>0.820267</td>\n",
       "      <td>-0.002235</td>\n",
       "      <td>-0.003764</td>\n",
       "    </tr>\n",
       "  </tbody>\n",
       "</table>\n",
       "</div>"
      ],
      "text/plain": [
       "            gap_diff  inf_diff  s_change  forecast\n",
       "2007-01-16 -2.829613  0.081910  0.014904  0.000000\n",
       "2007-01-17 -1.784869  0.081910 -0.001539  0.000000\n",
       "2007-01-25 -1.766147  0.596858  0.000310  0.000000\n",
       "2007-02-15 -3.347564  0.596858 -0.015119  0.000000\n",
       "2007-02-17 -3.651477  0.596858 -0.001590  0.000000\n",
       "2007-02-25 -3.597591  0.210444 -0.003188  0.000000\n",
       "2007-03-18 -3.044587  0.210444 -0.008761  0.000000\n",
       "2007-03-20 -2.039654  0.210444 -0.000146  0.000000\n",
       "2007-03-28 -2.014959  0.548478  0.000000  0.000000\n",
       "2007-04-17 -1.817355  0.548478 -0.019195  0.000000\n",
       "2007-04-18 -2.396485  0.548478 -0.003235 -0.004918\n",
       "2007-04-25 -2.365108  0.844255 -0.001581 -0.003583\n",
       "2007-05-16 -2.934149  0.844255  0.008433 -0.004442\n",
       "2007-05-18 -2.213818  0.844255 -0.000149 -0.002953\n",
       "2007-05-26 -2.185352  0.663404  0.005490 -0.003389\n",
       "2007-06-16 -0.757420  0.663404  0.002606 -0.001241\n",
       "2007-06-17 -0.712430  0.663404  0.002606 -0.001038\n",
       "2007-06-25 -0.710333  0.820267 -0.003723 -0.000414\n",
       "2007-07-16 -2.608086  0.820267 -0.022910 -0.003161\n",
       "2007-07-18 -2.554681  0.820267 -0.002235 -0.003764"
      ]
     },
     "execution_count": 10,
     "metadata": {},
     "output_type": "execute_result"
    }
   ],
   "source": [
    "data[110:130]"
   ]
  },
  {
   "cell_type": "code",
   "execution_count": 7,
   "id": "5b15e148",
   "metadata": {},
   "outputs": [],
   "source": [
    "# We are subsetting the datasset to the part that just conrtains our prediction\n",
    "test_data = data.iloc[120:].copy()"
   ]
  },
  {
   "cell_type": "markdown",
   "id": "e6587a7c",
   "metadata": {},
   "source": [
    "### Choose how the signals are generated. We should go long if we forecast the exchange rate will increase and short if we forecast it will decrease. "
   ]
  },
  {
   "cell_type": "code",
   "execution_count": 34,
   "id": "0d0d3779",
   "metadata": {
    "scrolled": true
   },
   "outputs": [],
   "source": [
    "# Select the correct signal values\n",
    "test_data['signal'] = np.where(test_data['forecast'] >= ___, ____, ____)\n",
    "\n",
    "# note that I have shifted the return (-1) before hand, so we don't need to .shift() the signals\n",
    "# The returns were shifted to be the appropriate label for the observations when we train our regression\n",
    "test_data['strategy_return'] = (np.exp((test_data['signal']*test_data['s_change']).cumsum())-1)*100"
   ]
  },
  {
   "cell_type": "code",
   "execution_count": null,
   "id": "8936928e",
   "metadata": {},
   "outputs": [],
   "source": [
    "test_data['strategy_return'].plot(figsize = (10,5))"
   ]
  },
  {
   "cell_type": "markdown",
   "id": "421ce93a",
   "metadata": {},
   "source": [
    "## Below is some code that computes the MSE of your exhcange rate forecasts"
   ]
  },
  {
   "cell_type": "code",
   "execution_count": 44,
   "id": "05030b43",
   "metadata": {
    "scrolled": false
   },
   "outputs": [
    {
     "data": {
      "text/plain": [
       "0.00029290371083852136"
      ]
     },
     "execution_count": 44,
     "metadata": {},
     "output_type": "execute_result"
    }
   ],
   "source": [
    "((test_data['s_change']-test_data['forecast'])**2).mean()"
   ]
  },
  {
   "cell_type": "markdown",
   "id": "03e1f07f",
   "metadata": {},
   "source": [
    "## Compute the mean squared error of the random walk forecast:\n",
    "\n",
    "$$\\text{MSE}_{rw} = \\frac{1}{N} \\sum_{t=1}^{N} s\\_\\text{change}_{t} - s\\_\\text{change}_{t-1})^2$$\n",
    "\n",
    "Hint: Any easy way to do this is to apply a .shift()"
   ]
  },
  {
   "cell_type": "code",
   "execution_count": 45,
   "id": "9e582ed9",
   "metadata": {},
   "outputs": [],
   "source": [
    "# Compute the MSE of the RW forecast"
   ]
  },
  {
   "cell_type": "code",
   "execution_count": null,
   "id": "45f985dc",
   "metadata": {},
   "outputs": [],
   "source": []
  }
 ],
 "metadata": {
  "kernelspec": {
   "display_name": "Python 3 (ipykernel)",
   "language": "python",
   "name": "python3"
  },
  "language_info": {
   "codemirror_mode": {
    "name": "ipython",
    "version": 3
   },
   "file_extension": ".py",
   "mimetype": "text/x-python",
   "name": "python",
   "nbconvert_exporter": "python",
   "pygments_lexer": "ipython3",
   "version": "3.11.5"
  }
 },
 "nbformat": 4,
 "nbformat_minor": 5
}
