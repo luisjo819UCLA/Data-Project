{
 "cells": [
  {
   "cell_type": "code",
   "execution_count": null,
   "metadata": {},
   "outputs": [],
   "source": [
    "import yfinance as yf\n",
    "import matplotlib.pyplot as plt\n",
    "import pandas as pd\n",
    "import numpy as np\n",
    "import datetime\n",
    "import io\n",
    "import datetime\n",
    "import matplotlib.lines as mlines\n",
    "import statsmodels.formula.api as smf\n",
    "import datetime"
   ]
  },
  {
   "cell_type": "markdown",
   "metadata": {},
   "source": [
    "# Data"
   ]
  },
  {
   "cell_type": "code",
   "execution_count": null,
   "metadata": {
    "scrolled": true
   },
   "outputs": [],
   "source": [
    "df = pd.read_csv('final_project_data.csv', parse_dates = True, index_col = 0)\n",
    "df.tail(15)"
   ]
  },
  {
   "cell_type": "code",
   "execution_count": null,
   "metadata": {},
   "outputs": [],
   "source": [
    "#we find the first value of CPI in order the delet the NaN values that are before that date\n",
    "initial_date = df['UK YoY CPI'].first_valid_index() \n",
    "#.fist_valid_index() returns the first non-NaN value\n",
    "initial_date"
   ]
  },
  {
   "cell_type": "code",
   "execution_count": null,
   "metadata": {},
   "outputs": [],
   "source": [
    "#Lets transform the date to a string, keeping the format YYYY-DD-MM\n",
    "initial_date_2 = initial_date.strftime('%Y-%m-%d')\n",
    "initial_date_2"
   ]
  },
  {
   "cell_type": "code",
   "execution_count": null,
   "metadata": {},
   "outputs": [],
   "source": [
    "usd_to_gbp_rate.head(4)"
   ]
  },
  {
   "cell_type": "code",
   "execution_count": null,
   "metadata": {},
   "outputs": [],
   "source": [
    "#we are gonna drop all the values before initial_date\n",
    "df = df[initial_date:]\n",
    "df.head()"
   ]
  },
  {
   "cell_type": "code",
   "execution_count": null,
   "metadata": {},
   "outputs": [],
   "source": [
    "#Im gonna transform the USD2YB and UK2YB to a log return\n",
    "df['USD2YB'] = np.log(df['USD2YB'])\n",
    "df['UK2YB'] = np.log(df['UK2YB'])\n"
   ]
  },
  {
   "cell_type": "code",
   "execution_count": null,
   "metadata": {
    "scrolled": false
   },
   "outputs": [],
   "source": [
    "nan_values = df.isnull().sum()\n",
    "print(\"NaN values in each column:\")\n",
    "print(nan_values)\n",
    "\n"
   ]
  },
  {
   "cell_type": "code",
   "execution_count": null,
   "metadata": {},
   "outputs": [],
   "source": [
    "initial_date_3 = usd_to_gbp_rate['Adj Close'].first_valid_index() \n",
    "initial_date_3"
   ]
  },
  {
   "cell_type": "code",
   "execution_count": null,
   "metadata": {},
   "outputs": [],
   "source": [
    "df = df.merge(usd_to_gbp_rate[\"log_return\"], left_index=True, right_index=True, how='left')"
   ]
  },
  {
   "cell_type": "code",
   "execution_count": null,
   "metadata": {},
   "outputs": [],
   "source": [
    "#Im gonna resample the data to a monthly frequency. For USD2YB and UK2YB we are gonna use the sum of the log returns, and for the rest of the columns we are gonna use the last value of the month.\n",
    "\n",
    "df2 = df.resample('M').agg({'USD2YB':'sum', 'UK2YB':'sum', 'UK YoY CPI':'last', 'US YoY CPI':'last', 'UK industrial Index':'last', 'US Industrial Index':'last', 'log_return':'sum'})\n",
    "df2"
   ]
  },
  {
   "cell_type": "code",
   "execution_count": null,
   "metadata": {},
   "outputs": [],
   "source": [
    "#we get rid of the last two rows of the dataframes\n",
    "df2 = df2[:-2]"
   ]
  },
  {
   "cell_type": "code",
   "execution_count": null,
   "metadata": {},
   "outputs": [],
   "source": [
    "df2.isnull().sum()"
   ]
  },
  {
   "cell_type": "code",
   "execution_count": null,
   "metadata": {},
   "outputs": [],
   "source": [
    "df2.reset_index(inplace=True)\n",
    "df2.rename(columns={'UK industrial Index': 'UK_Industrial_Index', 'US Industrial Index': 'US_Industrial_Index'}, inplace=True)\n",
    "df2"
   ]
  },
  {
   "cell_type": "code",
   "execution_count": null,
   "metadata": {},
   "outputs": [],
   "source": [
    "df2.head(15)"
   ]
  },
  {
   "cell_type": "code",
   "execution_count": null,
   "metadata": {},
   "outputs": [],
   "source": [
    "## Independent Variables\n",
    "# inf_us, inf_df2 : us inflation at t, df2 inflation at t\n",
    "inf_df2 = df2.loc[26:len(df2)-2,'UK YoY CPI'].reset_index(drop=True)\n",
    "inf_us = df2.loc[26:len(df2)-2,'US YoY CPI'].reset_index(drop=True)\n",
    "inf_diff = inf_us - inf_df2\n",
    "inf_diff = inf_diff.rename('inf_diff')\n",
    "\n",
    "# output_us, output_df2 : us output at t, df2 output at t\n",
    "output_uk = df2.loc[26:len(df2)-2,'UK_Industrial_Index'].reset_index(drop=True)\n",
    "output_us = df2.loc[26:len(df2)-2,'US_Industrial_Index'].reset_index(drop=True)\n",
    "\n",
    "\n",
    "# date : Time at t+1\n",
    "date = df2.loc[27:,'Date'].reset_index(drop=True)\n",
    "\n",
    "\n",
    "# Combine all variables into a new data set\n",
    "df2_const = pd.concat([date,  s_change, inf_diff, output_uk, output_us], axis=1)\n",
    "df2_const.head(10)"
   ]
  },
  {
   "cell_type": "markdown",
   "metadata": {},
   "source": [
    "# Strategy"
   ]
  },
  {
   "cell_type": "code",
   "execution_count": null,
   "metadata": {},
   "outputs": [],
   "source": [
    "## Estimate of Output Gap\n",
    "# Linear Trend\n",
    "# Output Gap in df2 and US\n",
    "\n",
    "df2_const = df2_const.copy()\n",
    "df2 = df2.copy()\n",
    "df2_const.rename(columns={'UK industrial Index': 'UK_Industrial_Index', 'US Industrial Index': 'US_Industrial_Index'}, inplace=True)\n",
    "\n",
    "df2['t'] = pd.DataFrame({'t' : range(1,len(df2)+1)})\n",
    "\n",
    "for i in range(0,len(df2_const)): # Updating the potential output each period\n",
    "    \n",
    "    # note that we are expanding the traning set each loop, starting from 0:27\n",
    "    linear_trend_df2 = smf.ols(formula = 'UK_Industrial_Index ~ t', data=df2[0:27+i]).fit()\n",
    "    \n",
    "    # we make a prediction for the next period\n",
    "    df2_const.loc[i,'df2_potential'] = linear_trend_df2.predict(df2['t'][27+i:28+i])[27+i]\n",
    "    \n",
    "    # Repeat for the US\n",
    "    linear_trend_us = smf.ols(formula = 'US_Industrial_Index ~ t', data=df2[0:27+i]).fit()\n",
    "    df2_const.loc[i,'us_potential'] = linear_trend_us.predict(df2['t'][27+i:28+i])[27+i]\n",
    "    \n",
    "df2_const['df2_gap'] = (df2_const['UK_Industrial_Index'] - df2_const['df2_potential'])/df2_const['df2_potential']\n",
    "df2_const['us_gap'] = (df2_const['US_Industrial_Index'] - df2_const['us_potential'])/df2_const['us_potential']\n",
    "\n",
    "\n",
    "# Output Gap differential between US and df2\n",
    "df2_const['gap_diff'] = df2_const['us_gap'] - df2_const['df2_gap']\n",
    "\n",
    "\n",
    "# Keep variables only used for our model\n",
    "df2_const=df2_const[['Date', 's_change', 'inf_diff', 'gap_diff']]"
   ]
  },
  {
   "cell_type": "code",
   "execution_count": null,
   "metadata": {},
   "outputs": [],
   "source": [
    "df2_const.head(10)"
   ]
  },
  {
   "cell_type": "code",
   "execution_count": null,
   "metadata": {},
   "outputs": [],
   "source": [
    "# Create empty columns for fitted values of changes i.e. changes of log exchange rates\n",
    "df2_const['s_change_fitted'] = np.nan\n",
    "\n",
    "# Out-of-sample Forecasts with rolling window : Here, we use the first 120 observations\n",
    "for i in range(120,len(df2_const)):\n",
    "\n",
    "    # we regress the change in teh exchange rate on the taylor rule fundamentals\n",
    "    tmp = smf.ols(formula = 's_change ~ inf_diff + gap_diff', data=df2_const[i-120:i]).fit()\n",
    "    \n",
    "    # make a prediction for the next period\n",
    "    df2_const.loc[i,'s_change_fitted'] = tmp.predict(df2_const[['inf_diff', 'gap_diff']][i:i+1])[i]\n",
    "\n",
    "# # Forecasts\n",
    "# df2_const['s_forecast'] = df2_const['s_change_fitted'] + df2_const['s_current']\n",
    "\n",
    "# Forecast Error\n",
    "df2_const['error'] = df2_const['s_change']-df2_const['s_change_fitted']\n",
    "\n",
    "\n",
    "df2_const.tail(10)"
   ]
  },
  {
   "cell_type": "code",
   "execution_count": null,
   "metadata": {},
   "outputs": [],
   "source": [
    "df3 = df2_const.dropna()\n",
    "df3 = df3.copy()\n",
    "\n",
    "# Go long if we forecast the exchange rate will increase, otherwise short\n",
    "df3['signal'] = np.where(df3['s_change_fitted'] >= 0, 1, -1)\n",
    "\n",
    "# calculate returns\n",
    "df3['returns'] = np.exp(df3['signal']*s_change)\n",
    "df3['strategy_return'] = (np.exp((df3['signal']*s_change).cumsum())-1)*100\n"
   ]
  }
 ],
 "metadata": {
  "kernelspec": {
   "display_name": "Python 3 (ipykernel)",
   "language": "python",
   "name": "python3"
  },
  "language_info": {
   "codemirror_mode": {
    "name": "ipython",
    "version": 3
   },
   "file_extension": ".py",
   "mimetype": "text/x-python",
   "name": "python",
   "nbconvert_exporter": "python",
   "pygments_lexer": "ipython3",
   "version": "3.11.7"
  }
 },
 "nbformat": 4,
 "nbformat_minor": 2
}
